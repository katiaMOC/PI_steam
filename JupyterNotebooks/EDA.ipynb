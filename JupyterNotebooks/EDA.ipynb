{
 "cells": [
  {
   "cell_type": "markdown",
   "metadata": {},
   "source": [
    "# EDA de los datasets limpios y elección de las variables para el modelo de recomendación"
   ]
  },
  {
   "cell_type": "markdown",
   "metadata": {},
   "source": [
    "En esta Jupyter Notebook se realizaremos el Análisis Exploratorio de los datos de los tres conjuntos de datos ya limpios para finalmente elegir las variables que serán usadas para entrenar el modelo de recomendación solicitado. Esto se hace dado que es un gran volumen de información y los recursos de procesamiento y almacenamiento, sobretodo al momento de deployar el proyecto, son limitados."
   ]
  },
  {
   "cell_type": "markdown",
   "metadata": {},
   "source": [
    "## Importaciones"
   ]
  },
  {
   "cell_type": "code",
   "execution_count": 1,
   "metadata": {},
   "outputs": [],
   "source": [
    "import pandas as pd\n",
    "import matplotlib.pyplot as plt\n",
    "import seaborn as sns\n",
    "\n",
    "%load_ext autoreload\n",
    "%autoreload 2\n",
    "import utils\n",
    "\n",
    "import warnings\n",
    "warnings.filterwarnings(\"ignore\")"
   ]
  },
  {
   "cell_type": "markdown",
   "metadata": {},
   "source": [
    "## EDA del dataset  `user_reviews`"
   ]
  },
  {
   "cell_type": "markdown",
   "metadata": {},
   "source": [
    "EDA de `user_reviews` limpio "
   ]
  },
  {
   "cell_type": "markdown",
   "metadata": {},
   "source": [
    "### Leemos los conjuntos de datos"
   ]
  },
  {
   "cell_type": "markdown",
   "metadata": {},
   "source": [
    "Se leen los datos de .csv y se guarda en un dataframe."
   ]
  },
  {
   "cell_type": "code",
   "execution_count": 12,
   "metadata": {},
   "outputs": [
    {
     "data": {
      "text/html": [
       "<div>\n",
       "<style scoped>\n",
       "    .dataframe tbody tr th:only-of-type {\n",
       "        vertical-align: middle;\n",
       "    }\n",
       "\n",
       "    .dataframe tbody tr th {\n",
       "        vertical-align: top;\n",
       "    }\n",
       "\n",
       "    .dataframe thead th {\n",
       "        text-align: right;\n",
       "    }\n",
       "</style>\n",
       "<table border=\"1\" class=\"dataframe\">\n",
       "  <thead>\n",
       "    <tr style=\"text-align: right;\">\n",
       "      <th></th>\n",
       "      <th>Unnamed: 0</th>\n",
       "      <th>user_id</th>\n",
       "      <th>user_url</th>\n",
       "      <th>reviews_item_id</th>\n",
       "      <th>reviews_helpful</th>\n",
       "      <th>reviews_recommend</th>\n",
       "      <th>reviews_date</th>\n",
       "      <th>sentiment_analysis</th>\n",
       "    </tr>\n",
       "  </thead>\n",
       "  <tbody>\n",
       "    <tr>\n",
       "      <th>0</th>\n",
       "      <td>0</td>\n",
       "      <td>76561197970982479</td>\n",
       "      <td>http://steamcommunity.com/profiles/76561197970...</td>\n",
       "      <td>1250</td>\n",
       "      <td>No ratings yet</td>\n",
       "      <td>True</td>\n",
       "      <td>2011-11-05</td>\n",
       "      <td>1</td>\n",
       "    </tr>\n",
       "    <tr>\n",
       "      <th>1</th>\n",
       "      <td>1</td>\n",
       "      <td>js41637</td>\n",
       "      <td>http://steamcommunity.com/id/js41637</td>\n",
       "      <td>251610</td>\n",
       "      <td>15 of 20 people (75%) found this review helpful</td>\n",
       "      <td>True</td>\n",
       "      <td>2014-06-24</td>\n",
       "      <td>1</td>\n",
       "    </tr>\n",
       "    <tr>\n",
       "      <th>2</th>\n",
       "      <td>2</td>\n",
       "      <td>evcentric</td>\n",
       "      <td>http://steamcommunity.com/id/evcentric</td>\n",
       "      <td>248820</td>\n",
       "      <td>No ratings yet</td>\n",
       "      <td>True</td>\n",
       "      <td>Formato inválido</td>\n",
       "      <td>2</td>\n",
       "    </tr>\n",
       "    <tr>\n",
       "      <th>3</th>\n",
       "      <td>3</td>\n",
       "      <td>doctr</td>\n",
       "      <td>http://steamcommunity.com/id/doctr</td>\n",
       "      <td>250320</td>\n",
       "      <td>2 of 2 people (100%) found this review helpful</td>\n",
       "      <td>True</td>\n",
       "      <td>2013-10-14</td>\n",
       "      <td>2</td>\n",
       "    </tr>\n",
       "    <tr>\n",
       "      <th>4</th>\n",
       "      <td>4</td>\n",
       "      <td>maplemage</td>\n",
       "      <td>http://steamcommunity.com/id/maplemage</td>\n",
       "      <td>211420</td>\n",
       "      <td>35 of 43 people (81%) found this review helpful</td>\n",
       "      <td>True</td>\n",
       "      <td>2014-04-15</td>\n",
       "      <td>1</td>\n",
       "    </tr>\n",
       "  </tbody>\n",
       "</table>\n",
       "</div>"
      ],
      "text/plain": [
       "   Unnamed: 0            user_id  \\\n",
       "0           0  76561197970982479   \n",
       "1           1            js41637   \n",
       "2           2          evcentric   \n",
       "3           3              doctr   \n",
       "4           4          maplemage   \n",
       "\n",
       "                                            user_url  reviews_item_id  \\\n",
       "0  http://steamcommunity.com/profiles/76561197970...             1250   \n",
       "1               http://steamcommunity.com/id/js41637           251610   \n",
       "2             http://steamcommunity.com/id/evcentric           248820   \n",
       "3                 http://steamcommunity.com/id/doctr           250320   \n",
       "4             http://steamcommunity.com/id/maplemage           211420   \n",
       "\n",
       "                                   reviews_helpful  reviews_recommend  \\\n",
       "0                                   No ratings yet               True   \n",
       "1  15 of 20 people (75%) found this review helpful               True   \n",
       "2                                   No ratings yet               True   \n",
       "3   2 of 2 people (100%) found this review helpful               True   \n",
       "4  35 of 43 people (81%) found this review helpful               True   \n",
       "\n",
       "       reviews_date  sentiment_analysis  \n",
       "0        2011-11-05                   1  \n",
       "1        2014-06-24                   1  \n",
       "2  Formato inválido                   2  \n",
       "3        2013-10-14                   2  \n",
       "4        2014-04-15                   1  "
      ]
     },
     "execution_count": 12,
     "metadata": {},
     "output_type": "execute_result"
    }
   ],
   "source": [
    "df_reviews = pd.read_csv('data/user_review_cleaned1.csv', encoding='utf-8')\n",
    "df_reviews.head()"
   ]
  },
  {
   "cell_type": "markdown",
   "metadata": {},
   "source": [
    "Se revisan los tipos de datos y cantidad de nulos si hay."
   ]
  },
  {
   "cell_type": "code",
   "execution_count": 13,
   "metadata": {},
   "outputs": [],
   "source": [
    "def verificar_tipo_datos(df):\n",
    "    '''\n",
    "    Realiza un análisis de los tipos de datos y la presencia de valores nulos en un DataFrame.\n",
    "\n",
    "    Esta función toma un DataFrame como entrada y devuelve un resumen que incluye información sobre\n",
    "    los tipos de datos en cada columna, el porcentaje de valores no nulos y nulos, así como la\n",
    "    cantidad de valores nulos por columna.\n",
    "\n",
    "    '''\n",
    "\n",
    "    mi_dict = {\"nombre_campo\": [], \"tipo_datos\": [], \"no_nulos_%\": [], \"nulos_%\": [], \"nulos\": []}\n",
    "\n",
    "    for columna in df.columns:\n",
    "        porcentaje_no_nulos = (df[columna].count() / len(df)) * 100\n",
    "        mi_dict[\"nombre_campo\"].append(columna)\n",
    "        mi_dict[\"tipo_datos\"].append(df[columna].apply(type).unique())\n",
    "        mi_dict[\"no_nulos_%\"].append(round(porcentaje_no_nulos, 2))\n",
    "        mi_dict[\"nulos_%\"].append(round(100-porcentaje_no_nulos, 2))\n",
    "        mi_dict[\"nulos\"].append(df[columna].isnull().sum())\n",
    "\n",
    "    df_info = pd.DataFrame(mi_dict)\n",
    "        \n",
    "    return df_info"
   ]
  },
  {
   "cell_type": "code",
   "execution_count": 14,
   "metadata": {},
   "outputs": [
    {
     "name": "stdout",
     "output_type": "stream",
     "text": [
      "La cantidad de registros que hay son: 57367\n"
     ]
    },
    {
     "data": {
      "text/html": [
       "<div>\n",
       "<style scoped>\n",
       "    .dataframe tbody tr th:only-of-type {\n",
       "        vertical-align: middle;\n",
       "    }\n",
       "\n",
       "    .dataframe tbody tr th {\n",
       "        vertical-align: top;\n",
       "    }\n",
       "\n",
       "    .dataframe thead th {\n",
       "        text-align: right;\n",
       "    }\n",
       "</style>\n",
       "<table border=\"1\" class=\"dataframe\">\n",
       "  <thead>\n",
       "    <tr style=\"text-align: right;\">\n",
       "      <th></th>\n",
       "      <th>nombre_campo</th>\n",
       "      <th>tipo_datos</th>\n",
       "      <th>no_nulos_%</th>\n",
       "      <th>nulos_%</th>\n",
       "      <th>nulos</th>\n",
       "    </tr>\n",
       "  </thead>\n",
       "  <tbody>\n",
       "    <tr>\n",
       "      <th>0</th>\n",
       "      <td>Unnamed: 0</td>\n",
       "      <td>[&lt;class 'int'&gt;]</td>\n",
       "      <td>100.0</td>\n",
       "      <td>0.0</td>\n",
       "      <td>0</td>\n",
       "    </tr>\n",
       "    <tr>\n",
       "      <th>1</th>\n",
       "      <td>user_id</td>\n",
       "      <td>[&lt;class 'str'&gt;]</td>\n",
       "      <td>100.0</td>\n",
       "      <td>0.0</td>\n",
       "      <td>0</td>\n",
       "    </tr>\n",
       "    <tr>\n",
       "      <th>2</th>\n",
       "      <td>user_url</td>\n",
       "      <td>[&lt;class 'str'&gt;]</td>\n",
       "      <td>100.0</td>\n",
       "      <td>0.0</td>\n",
       "      <td>0</td>\n",
       "    </tr>\n",
       "    <tr>\n",
       "      <th>3</th>\n",
       "      <td>reviews_item_id</td>\n",
       "      <td>[&lt;class 'int'&gt;]</td>\n",
       "      <td>100.0</td>\n",
       "      <td>0.0</td>\n",
       "      <td>0</td>\n",
       "    </tr>\n",
       "    <tr>\n",
       "      <th>4</th>\n",
       "      <td>reviews_helpful</td>\n",
       "      <td>[&lt;class 'str'&gt;]</td>\n",
       "      <td>100.0</td>\n",
       "      <td>0.0</td>\n",
       "      <td>0</td>\n",
       "    </tr>\n",
       "    <tr>\n",
       "      <th>5</th>\n",
       "      <td>reviews_recommend</td>\n",
       "      <td>[&lt;class 'bool'&gt;]</td>\n",
       "      <td>100.0</td>\n",
       "      <td>0.0</td>\n",
       "      <td>0</td>\n",
       "    </tr>\n",
       "    <tr>\n",
       "      <th>6</th>\n",
       "      <td>reviews_date</td>\n",
       "      <td>[&lt;class 'str'&gt;]</td>\n",
       "      <td>100.0</td>\n",
       "      <td>0.0</td>\n",
       "      <td>0</td>\n",
       "    </tr>\n",
       "    <tr>\n",
       "      <th>7</th>\n",
       "      <td>sentiment_analysis</td>\n",
       "      <td>[&lt;class 'int'&gt;]</td>\n",
       "      <td>100.0</td>\n",
       "      <td>0.0</td>\n",
       "      <td>0</td>\n",
       "    </tr>\n",
       "  </tbody>\n",
       "</table>\n",
       "</div>"
      ],
      "text/plain": [
       "         nombre_campo        tipo_datos  no_nulos_%  nulos_%  nulos\n",
       "0          Unnamed: 0   [<class 'int'>]       100.0      0.0      0\n",
       "1             user_id   [<class 'str'>]       100.0      0.0      0\n",
       "2            user_url   [<class 'str'>]       100.0      0.0      0\n",
       "3     reviews_item_id   [<class 'int'>]       100.0      0.0      0\n",
       "4     reviews_helpful   [<class 'str'>]       100.0      0.0      0\n",
       "5   reviews_recommend  [<class 'bool'>]       100.0      0.0      0\n",
       "6        reviews_date   [<class 'str'>]       100.0      0.0      0\n",
       "7  sentiment_analysis   [<class 'int'>]       100.0      0.0      0"
      ]
     },
     "execution_count": 14,
     "metadata": {},
     "output_type": "execute_result"
    }
   ],
   "source": [
    "# Se calcula la cantidad de registros\n",
    "print(f'La cantidad de registros que hay son: {df_reviews.shape[0]}')\n",
    "# Se revisan tipos de datos y existencias de nulos\n",
    "verificar_tipo_datos(df_reviews)"
   ]
  },
  {
   "cell_type": "markdown",
   "metadata": {},
   "source": [
    "Se tienen 57367 registros de opiniones de los usuarios respecto a los juegos que consumen. Si bien no hay nulos, recordar que en el ETL se observaron datos faltantes en la columna 'reviews_date' donde se rellenó con 'Formato inválido'."
   ]
  },
  {
   "cell_type": "markdown",
   "metadata": {},
   "source": [
    "### Columnas 'sentiment_analysis' y 'reviews_recommend'"
   ]
  },
  {
   "cell_type": "markdown",
   "metadata": {},
   "source": [
    "Se exploran las columnas 'sentiment_analysis' y 'reviews_recommend'."
   ]
  },
  {
   "cell_type": "code",
   "execution_count": 15,
   "metadata": {},
   "outputs": [],
   "source": [
    "def resumen_cant_porcentaje(df, columna):\n",
    "    '''\n",
    "    Cuanta la cantidad de True/False luego calcula el porcentaje.\n",
    "    '''\n",
    "    # Cuanta la cantidad de True/False luego calcula el porcentaje\n",
    "    counts = df[columna].value_counts()\n",
    "    percentages = round(100 * counts / len(df),2)\n",
    "    # Crea un dataframe con el resumen\n",
    "    df_results = pd.DataFrame({\n",
    "        \"Cantidad\": counts,\n",
    "        \"Porcentaje\": percentages\n",
    "    })\n",
    "    return df_results"
   ]
  },
  {
   "cell_type": "code",
   "execution_count": 16,
   "metadata": {},
   "outputs": [
    {
     "data": {
      "text/html": [
       "<div>\n",
       "<style scoped>\n",
       "    .dataframe tbody tr th:only-of-type {\n",
       "        vertical-align: middle;\n",
       "    }\n",
       "\n",
       "    .dataframe tbody tr th {\n",
       "        vertical-align: top;\n",
       "    }\n",
       "\n",
       "    .dataframe thead th {\n",
       "        text-align: right;\n",
       "    }\n",
       "</style>\n",
       "<table border=\"1\" class=\"dataframe\">\n",
       "  <thead>\n",
       "    <tr style=\"text-align: right;\">\n",
       "      <th></th>\n",
       "      <th>Cantidad</th>\n",
       "      <th>Porcentaje</th>\n",
       "    </tr>\n",
       "    <tr>\n",
       "      <th>sentiment_analysis</th>\n",
       "      <th></th>\n",
       "      <th></th>\n",
       "    </tr>\n",
       "  </thead>\n",
       "  <tbody>\n",
       "    <tr>\n",
       "      <th>1</th>\n",
       "      <td>35241</td>\n",
       "      <td>61.43</td>\n",
       "    </tr>\n",
       "    <tr>\n",
       "      <th>2</th>\n",
       "      <td>17100</td>\n",
       "      <td>29.81</td>\n",
       "    </tr>\n",
       "    <tr>\n",
       "      <th>0</th>\n",
       "      <td>5026</td>\n",
       "      <td>8.76</td>\n",
       "    </tr>\n",
       "  </tbody>\n",
       "</table>\n",
       "</div>"
      ],
      "text/plain": [
       "                    Cantidad  Porcentaje\n",
       "sentiment_analysis                      \n",
       "1                      35241       61.43\n",
       "2                      17100       29.81\n",
       "0                       5026        8.76"
      ]
     },
     "execution_count": 16,
     "metadata": {},
     "output_type": "execute_result"
    }
   ],
   "source": [
    "resumen_cant_porcentaje(df_reviews, 'sentiment_analysis')"
   ]
  },
  {
   "cell_type": "code",
   "execution_count": 17,
   "metadata": {},
   "outputs": [
    {
     "data": {
      "text/html": [
       "<div>\n",
       "<style scoped>\n",
       "    .dataframe tbody tr th:only-of-type {\n",
       "        vertical-align: middle;\n",
       "    }\n",
       "\n",
       "    .dataframe tbody tr th {\n",
       "        vertical-align: top;\n",
       "    }\n",
       "\n",
       "    .dataframe thead th {\n",
       "        text-align: right;\n",
       "    }\n",
       "</style>\n",
       "<table border=\"1\" class=\"dataframe\">\n",
       "  <thead>\n",
       "    <tr style=\"text-align: right;\">\n",
       "      <th></th>\n",
       "      <th>Cantidad</th>\n",
       "      <th>Porcentaje</th>\n",
       "    </tr>\n",
       "    <tr>\n",
       "      <th>reviews_recommend</th>\n",
       "      <th></th>\n",
       "      <th></th>\n",
       "    </tr>\n",
       "  </thead>\n",
       "  <tbody>\n",
       "    <tr>\n",
       "      <th>True</th>\n",
       "      <td>50751</td>\n",
       "      <td>88.47</td>\n",
       "    </tr>\n",
       "    <tr>\n",
       "      <th>False</th>\n",
       "      <td>6616</td>\n",
       "      <td>11.53</td>\n",
       "    </tr>\n",
       "  </tbody>\n",
       "</table>\n",
       "</div>"
      ],
      "text/plain": [
       "                   Cantidad  Porcentaje\n",
       "reviews_recommend                      \n",
       "True                  50751       88.47\n",
       "False                  6616       11.53"
      ]
     },
     "execution_count": 17,
     "metadata": {},
     "output_type": "execute_result"
    }
   ],
   "source": [
    "resumen_cant_porcentaje(df_reviews, 'reviews_recommend')"
   ]
  },
  {
   "cell_type": "markdown",
   "metadata": {},
   "source": [
    "De los registros de reviews casi el 61.4% de los reviews reflejan sentimientos neutrales, casi el 29.8% reflejan sentimientos positivos hacia el juego y menos del 8.8% fue negativo. Por otro lado  el 88.5% de los reviews se recomiendan los juegos que consumen.\n",
    "\n",
    "En el siguiente código se busca ver la cantidad de recomendaciones para los distintos sentimientos de las reviews."
   ]
  },
  {
   "cell_type": "code",
   "execution_count": 18,
   "metadata": {},
   "outputs": [
    {
     "data": {
      "text/html": [
       "<div>\n",
       "<style scoped>\n",
       "    .dataframe tbody tr th:only-of-type {\n",
       "        vertical-align: middle;\n",
       "    }\n",
       "\n",
       "    .dataframe tbody tr th {\n",
       "        vertical-align: top;\n",
       "    }\n",
       "\n",
       "    .dataframe thead th {\n",
       "        text-align: right;\n",
       "    }\n",
       "</style>\n",
       "<table border=\"1\" class=\"dataframe\">\n",
       "  <thead>\n",
       "    <tr style=\"text-align: right;\">\n",
       "      <th></th>\n",
       "      <th></th>\n",
       "      <th>Cantidad</th>\n",
       "      <th>Porcentaje</th>\n",
       "    </tr>\n",
       "    <tr>\n",
       "      <th>sentiment_analysis</th>\n",
       "      <th>reviews_recommend</th>\n",
       "      <th></th>\n",
       "      <th></th>\n",
       "    </tr>\n",
       "  </thead>\n",
       "  <tbody>\n",
       "    <tr>\n",
       "      <th rowspan=\"2\" valign=\"top\">0</th>\n",
       "      <th>False</th>\n",
       "      <td>1652</td>\n",
       "      <td>2.879704</td>\n",
       "    </tr>\n",
       "    <tr>\n",
       "      <th>True</th>\n",
       "      <td>3374</td>\n",
       "      <td>5.881430</td>\n",
       "    </tr>\n",
       "    <tr>\n",
       "      <th rowspan=\"2\" valign=\"top\">1</th>\n",
       "      <th>False</th>\n",
       "      <td>4367</td>\n",
       "      <td>7.612390</td>\n",
       "    </tr>\n",
       "    <tr>\n",
       "      <th>True</th>\n",
       "      <td>30874</td>\n",
       "      <td>53.818397</td>\n",
       "    </tr>\n",
       "    <tr>\n",
       "      <th rowspan=\"2\" valign=\"top\">2</th>\n",
       "      <th>False</th>\n",
       "      <td>597</td>\n",
       "      <td>1.040668</td>\n",
       "    </tr>\n",
       "    <tr>\n",
       "      <th>True</th>\n",
       "      <td>16503</td>\n",
       "      <td>28.767410</td>\n",
       "    </tr>\n",
       "  </tbody>\n",
       "</table>\n",
       "</div>"
      ],
      "text/plain": [
       "                                      Cantidad  Porcentaje\n",
       "sentiment_analysis reviews_recommend                      \n",
       "0                  False                  1652    2.879704\n",
       "                   True                   3374    5.881430\n",
       "1                  False                  4367    7.612390\n",
       "                   True                  30874   53.818397\n",
       "2                  False                   597    1.040668\n",
       "                   True                  16503   28.767410"
      ]
     },
     "execution_count": 18,
     "metadata": {},
     "output_type": "execute_result"
    }
   ],
   "source": [
    "# Se agrupa por 'sentiment_analysis' y 'reviews_recommend'\n",
    "df_agrupado = df_reviews.groupby(['sentiment_analysis', 'reviews_recommend'])\n",
    "# Se cuentan la cantidad de reviews en cada grupo\n",
    "cantidad_grupo = df_agrupado.size()\n",
    "# Se calcula el porcentaje por cada grupo\n",
    "porcentaje_grupo = 100 * df_agrupado.size() / len(df_reviews)\n",
    "# Se crea un datafram con el resumen\n",
    "sentimiento_recomendacion = pd.DataFrame({\n",
    "    \"Cantidad\": cantidad_grupo,\n",
    "    \"Porcentaje\": porcentaje_grupo\n",
    "})\n",
    "sentimiento_recomendacion"
   ]
  },
  {
   "cell_type": "markdown",
   "metadata": {},
   "source": [
    "Se puede ver que el porcentaje respecto del total de los reviews es el 53.8% de los reviews que reflejan un sentimiento neutral recomienda el juego por lo que un sentimiento neutral podría estar relacionado con un comentario sencillo sin muchos detalles pero que aún así el juego le gustó como para recomendar. Por otra parte, de los comentarios que reflejaron un sentimiento negativo cerca del 6% aún recomienda el juego, lo que es algo contradictorio."
   ]
  },
  {
   "cell_type": "code",
   "execution_count": 19,
   "metadata": {},
   "outputs": [
    {
     "name": "stdout",
     "output_type": "stream",
     "text": [
      "Cantidad de usuarios únicos que opinaron: 25132\n"
     ]
    }
   ],
   "source": [
    "# Cantidad de usuarios que dieron su opinion\n",
    "print(f\"Cantidad de usuarios únicos que opinaron: {len(df_reviews['user_id'].unique())}\")"
   ]
  },
  {
   "cell_type": "markdown",
   "metadata": {},
   "source": [
    "### Columna 'reviews_date'"
   ]
  },
  {
   "cell_type": "markdown",
   "metadata": {},
   "source": [
    "Se revisan la cantidad de fechas con formato inválido o que no tenían fecha en el conjunto de datos original."
   ]
  },
  {
   "cell_type": "code",
   "execution_count": 20,
   "metadata": {},
   "outputs": [
    {
     "name": "stdout",
     "output_type": "stream",
     "text": [
      "La cantidad de fechas en formato inválido son: 9768\n"
     ]
    }
   ],
   "source": [
    "print(f'La cantidad de fechas en formato inválido son: {len(df_reviews[df_reviews[\"reviews_date\"]==\"Formato inválido\"])}')"
   ]
  },
  {
   "cell_type": "markdown",
   "metadata": {},
   "source": [
    "Hay 9768 registros que no contienen la fecha del review.\n",
    "\n",
    "En el siguiente gráfico se puede ver la distribución de la cantidad de reviews por día, sin tener en cuenta los que no tenía la fecha."
   ]
  },
  {
   "cell_type": "code",
   "execution_count": 21,
   "metadata": {},
   "outputs": [
    {
     "data": {
      "image/png": "[encoded data removed]",
      "text/plain": [
       "<Figure size 1400x400 with 1 Axes>"
      ]
     },
     "metadata": {},
     "output_type": "display_data"
    }
   ],
   "source": [
    "# Se hace un dataframe auxiliar para analizar solo las fechas (hay campos con 'Datos no disponibles')\n",
    "df = df_reviews[df_reviews[\"reviews_date\"].str.match(r\"^\\d{4}-\\d{2}-\\d{2}$\")]\n",
    "# Convierte a formato fecha\n",
    "df[\"reviews_date\"] = pd.to_datetime(df[\"reviews_date\"])\n",
    "# Calcula la cantidad de review por fecha\n",
    "df_counts = df.groupby(\"reviews_date\").count()\n",
    "\n",
    "# Grafica\n",
    "plt.figure(figsize=(14, 4))\n",
    "sns.lineplot(data=df_counts, x=\"reviews_date\", y=\"reviews_recommend\")\n",
    "plt.ylabel('Cantidad de reviews')\n",
    "plt.show()"
   ]
  },
  {
   "cell_type": "code",
   "execution_count": 22,
   "metadata": {},
   "outputs": [
    {
     "name": "stdout",
     "output_type": "stream",
     "text": [
      "Días de cantidad pico de reviews\n"
     ]
    },
    {
     "data": {
      "text/plain": [
       "reviews_date\n",
       "2014-06-21    218\n",
       "2014-06-20    187\n",
       "2014-06-23    170\n",
       "2014-06-27    167\n",
       "2013-12-26    164\n",
       "Name: reviews_recommend, dtype: int64"
      ]
     },
     "execution_count": 22,
     "metadata": {},
     "output_type": "execute_result"
    }
   ],
   "source": [
    "print('Días de cantidad pico de reviews')\n",
    "df_counts.sort_values(by='reviews_recommend', ascending=False)['reviews_recommend'][:5]"
   ]
  },
  {
   "cell_type": "markdown",
   "metadata": {},
   "source": [
    "Se observa que hasta cerca del 2014 la cantidad de reviews por día es bajo, con algunos picos puntuales y luego aumenta considerablemente la cantidad de comentarios con un pico máximo el 21-06-2014 con 218 comentarios en un solo día."
   ]
  },
  {
   "cell_type": "markdown",
   "metadata": {},
   "source": [
    "## EDA del dataset  `steam_games`"
   ]
  },
  {
   "cell_type": "markdown",
   "metadata": {},
   "source": [
    "En esta sección se desarrolla el Análisis Exploratorio de los Datos del conjunto `steam_games` que ya pasó por el proceso de ETL."
   ]
  },
  {
   "cell_type": "markdown",
   "metadata": {},
   "source": [
    "### Lectura del conjunto de datos"
   ]
  },
  {
   "cell_type": "markdown",
   "metadata": {},
   "source": [
    "Se leen los datos de .csv y se guarda en un dataframe."
   ]
  },
  {
   "cell_type": "code",
   "execution_count": 25,
   "metadata": {},
   "outputs": [
    {
     "data": {
      "text/html": [
       "<div>\n",
       "<style scoped>\n",
       "    .dataframe tbody tr th:only-of-type {\n",
       "        vertical-align: middle;\n",
       "    }\n",
       "\n",
       "    .dataframe tbody tr th {\n",
       "        vertical-align: top;\n",
       "    }\n",
       "\n",
       "    .dataframe thead th {\n",
       "        text-align: right;\n",
       "    }\n",
       "</style>\n",
       "<table border=\"1\" class=\"dataframe\">\n",
       "  <thead>\n",
       "    <tr style=\"text-align: right;\">\n",
       "      <th></th>\n",
       "      <th>genres</th>\n",
       "      <th>price</th>\n",
       "      <th>early_access</th>\n",
       "      <th>id</th>\n",
       "      <th>release_anio</th>\n",
       "      <th>publisher</th>\n",
       "      <th>app_name</th>\n",
       "      <th>title</th>\n",
       "      <th>developer</th>\n",
       "    </tr>\n",
       "  </thead>\n",
       "  <tbody>\n",
       "    <tr>\n",
       "      <th>0</th>\n",
       "      <td>Action</td>\n",
       "      <td>4.99</td>\n",
       "      <td>False</td>\n",
       "      <td>761140</td>\n",
       "      <td>2018</td>\n",
       "      <td>Kotoshiro</td>\n",
       "      <td>Lost Summoner Kitty</td>\n",
       "      <td>Lost Summoner Kitty</td>\n",
       "      <td>Kotoshiro</td>\n",
       "    </tr>\n",
       "    <tr>\n",
       "      <th>1</th>\n",
       "      <td>Casual</td>\n",
       "      <td>4.99</td>\n",
       "      <td>False</td>\n",
       "      <td>761140</td>\n",
       "      <td>2018</td>\n",
       "      <td>Kotoshiro</td>\n",
       "      <td>Lost Summoner Kitty</td>\n",
       "      <td>Lost Summoner Kitty</td>\n",
       "      <td>Kotoshiro</td>\n",
       "    </tr>\n",
       "    <tr>\n",
       "      <th>2</th>\n",
       "      <td>Indie</td>\n",
       "      <td>4.99</td>\n",
       "      <td>False</td>\n",
       "      <td>761140</td>\n",
       "      <td>2018</td>\n",
       "      <td>Kotoshiro</td>\n",
       "      <td>Lost Summoner Kitty</td>\n",
       "      <td>Lost Summoner Kitty</td>\n",
       "      <td>Kotoshiro</td>\n",
       "    </tr>\n",
       "    <tr>\n",
       "      <th>3</th>\n",
       "      <td>Simulation</td>\n",
       "      <td>4.99</td>\n",
       "      <td>False</td>\n",
       "      <td>761140</td>\n",
       "      <td>2018</td>\n",
       "      <td>Kotoshiro</td>\n",
       "      <td>Lost Summoner Kitty</td>\n",
       "      <td>Lost Summoner Kitty</td>\n",
       "      <td>Kotoshiro</td>\n",
       "    </tr>\n",
       "    <tr>\n",
       "      <th>4</th>\n",
       "      <td>Strategy</td>\n",
       "      <td>4.99</td>\n",
       "      <td>False</td>\n",
       "      <td>761140</td>\n",
       "      <td>2018</td>\n",
       "      <td>Kotoshiro</td>\n",
       "      <td>Lost Summoner Kitty</td>\n",
       "      <td>Lost Summoner Kitty</td>\n",
       "      <td>Kotoshiro</td>\n",
       "    </tr>\n",
       "  </tbody>\n",
       "</table>\n",
       "</div>"
      ],
      "text/plain": [
       "       genres  price  early_access      id release_anio  publisher  \\\n",
       "0      Action   4.99         False  761140         2018  Kotoshiro   \n",
       "1      Casual   4.99         False  761140         2018  Kotoshiro   \n",
       "2       Indie   4.99         False  761140         2018  Kotoshiro   \n",
       "3  Simulation   4.99         False  761140         2018  Kotoshiro   \n",
       "4    Strategy   4.99         False  761140         2018  Kotoshiro   \n",
       "\n",
       "              app_name                title  developer  \n",
       "0  Lost Summoner Kitty  Lost Summoner Kitty  Kotoshiro  \n",
       "1  Lost Summoner Kitty  Lost Summoner Kitty  Kotoshiro  \n",
       "2  Lost Summoner Kitty  Lost Summoner Kitty  Kotoshiro  \n",
       "3  Lost Summoner Kitty  Lost Summoner Kitty  Kotoshiro  \n",
       "4  Lost Summoner Kitty  Lost Summoner Kitty  Kotoshiro  "
      ]
     },
     "execution_count": 25,
     "metadata": {},
     "output_type": "execute_result"
    }
   ],
   "source": [
    "df_games = pd.read_csv('data/output_steam_games_cleaned.csv', encoding='utf-8')\n",
    "df_games.head()"
   ]
  },
  {
   "cell_type": "markdown",
   "metadata": {},
   "source": [
    "Se revisan los tipos de datos y cantidad de nulos si hay."
   ]
  },
  {
   "cell_type": "code",
   "execution_count": 27,
   "metadata": {},
   "outputs": [
    {
     "name": "stdout",
     "output_type": "stream",
     "text": [
      "La cantidad de registros que hay son: 71551\n"
     ]
    },
    {
     "data": {
      "text/html": [
       "<div>\n",
       "<style scoped>\n",
       "    .dataframe tbody tr th:only-of-type {\n",
       "        vertical-align: middle;\n",
       "    }\n",
       "\n",
       "    .dataframe tbody tr th {\n",
       "        vertical-align: top;\n",
       "    }\n",
       "\n",
       "    .dataframe thead th {\n",
       "        text-align: right;\n",
       "    }\n",
       "</style>\n",
       "<table border=\"1\" class=\"dataframe\">\n",
       "  <thead>\n",
       "    <tr style=\"text-align: right;\">\n",
       "      <th></th>\n",
       "      <th>nombre_campo</th>\n",
       "      <th>tipo_datos</th>\n",
       "      <th>no_nulos_%</th>\n",
       "      <th>nulos_%</th>\n",
       "      <th>nulos</th>\n",
       "    </tr>\n",
       "  </thead>\n",
       "  <tbody>\n",
       "    <tr>\n",
       "      <th>0</th>\n",
       "      <td>genres</td>\n",
       "      <td>[&lt;class 'str'&gt;]</td>\n",
       "      <td>100.00</td>\n",
       "      <td>0.00</td>\n",
       "      <td>0</td>\n",
       "    </tr>\n",
       "    <tr>\n",
       "      <th>1</th>\n",
       "      <td>price</td>\n",
       "      <td>[&lt;class 'float'&gt;]</td>\n",
       "      <td>100.00</td>\n",
       "      <td>0.00</td>\n",
       "      <td>0</td>\n",
       "    </tr>\n",
       "    <tr>\n",
       "      <th>2</th>\n",
       "      <td>early_access</td>\n",
       "      <td>[&lt;class 'bool'&gt;]</td>\n",
       "      <td>100.00</td>\n",
       "      <td>0.00</td>\n",
       "      <td>0</td>\n",
       "    </tr>\n",
       "    <tr>\n",
       "      <th>3</th>\n",
       "      <td>id</td>\n",
       "      <td>[&lt;class 'int'&gt;]</td>\n",
       "      <td>100.00</td>\n",
       "      <td>0.00</td>\n",
       "      <td>0</td>\n",
       "    </tr>\n",
       "    <tr>\n",
       "      <th>4</th>\n",
       "      <td>release_anio</td>\n",
       "      <td>[&lt;class 'str'&gt;]</td>\n",
       "      <td>100.00</td>\n",
       "      <td>0.00</td>\n",
       "      <td>0</td>\n",
       "    </tr>\n",
       "    <tr>\n",
       "      <th>5</th>\n",
       "      <td>publisher</td>\n",
       "      <td>[&lt;class 'str'&gt;, &lt;class 'float'&gt;]</td>\n",
       "      <td>99.93</td>\n",
       "      <td>0.07</td>\n",
       "      <td>47</td>\n",
       "    </tr>\n",
       "    <tr>\n",
       "      <th>6</th>\n",
       "      <td>app_name</td>\n",
       "      <td>[&lt;class 'str'&gt;]</td>\n",
       "      <td>100.00</td>\n",
       "      <td>0.00</td>\n",
       "      <td>0</td>\n",
       "    </tr>\n",
       "    <tr>\n",
       "      <th>7</th>\n",
       "      <td>title</td>\n",
       "      <td>[&lt;class 'str'&gt;]</td>\n",
       "      <td>100.00</td>\n",
       "      <td>0.00</td>\n",
       "      <td>0</td>\n",
       "    </tr>\n",
       "    <tr>\n",
       "      <th>8</th>\n",
       "      <td>developer</td>\n",
       "      <td>[&lt;class 'str'&gt;]</td>\n",
       "      <td>100.00</td>\n",
       "      <td>0.00</td>\n",
       "      <td>0</td>\n",
       "    </tr>\n",
       "  </tbody>\n",
       "</table>\n",
       "</div>"
      ],
      "text/plain": [
       "   nombre_campo                        tipo_datos  no_nulos_%  nulos_%  nulos\n",
       "0        genres                   [<class 'str'>]      100.00     0.00      0\n",
       "1         price                 [<class 'float'>]      100.00     0.00      0\n",
       "2  early_access                  [<class 'bool'>]      100.00     0.00      0\n",
       "3            id                   [<class 'int'>]      100.00     0.00      0\n",
       "4  release_anio                   [<class 'str'>]      100.00     0.00      0\n",
       "5     publisher  [<class 'str'>, <class 'float'>]       99.93     0.07     47\n",
       "6      app_name                   [<class 'str'>]      100.00     0.00      0\n",
       "7         title                   [<class 'str'>]      100.00     0.00      0\n",
       "8     developer                   [<class 'str'>]      100.00     0.00      0"
      ]
     },
     "execution_count": 27,
     "metadata": {},
     "output_type": "execute_result"
    }
   ],
   "source": [
    "# Se calcula la cantidad de registros\n",
    "print(f'La cantidad de registros que hay son: {df_games.shape[0]}')\n",
    "# Se revisan tipos de datos y existencias de nulos\n",
    "verificar_tipo_datos(df_games)"
   ]
  },
  {
   "cell_type": "markdown",
   "metadata": {},
   "source": [
    "Este conjunto de datos tiene 9 columnas y 71551 registros. Para recordar, contiene la información relacionada a cada juego como el precio, el año de lanzamiento, el nombre de la aplicación y del juego, el desarrollador y el publicitador, así como el género. Hay que tener en cuenta que la información se repite porque un juego puede pertenecer a mas de un género."
   ]
  },
  {
   "cell_type": "markdown",
   "metadata": {},
   "source": [
    "### Columnas 'id', 'app_name' y 'title'"
   ]
  },
  {
   "cell_type": "markdown",
   "metadata": {},
   "source": [
    "Estas columnas hacen referencia al identificador único del juego y los nombres de la aplicación y del título del juego. Estos últimos no tienen mayor información que analizar en este momento. Con el 'id' se puede calcular la cantidad de juegos."
   ]
  },
  {
   "cell_type": "code",
   "execution_count": 30,
   "metadata": {},
   "outputs": [
    {
     "name": "stdout",
     "output_type": "stream",
     "text": [
      "El total de juegos que hay registrados son: 28850\n"
     ]
    }
   ],
   "source": [
    "total_juegos = len(df_games['id'].unique())\n",
    "print(f\"El total de juegos que hay registrados son: {total_juegos}\")"
   ]
  },
  {
   "cell_type": "markdown",
   "metadata": {},
   "source": [
    "Hay un total de 28850 juegos en la plataforma."
   ]
  },
  {
   "cell_type": "markdown",
   "metadata": {},
   "source": [
    "### Columna 'genres'"
   ]
  },
  {
   "cell_type": "code",
   "execution_count": 31,
   "metadata": {},
   "outputs": [
    {
     "data": {
      "image/png": "[encoded data removed]",
      "text/plain": [
       "<Figure size 600x400 with 1 Axes>"
      ]
     },
     "metadata": {},
     "output_type": "display_data"
    }
   ],
   "source": [
    "plt.figure(figsize=(6, 4))\n",
    "sns.countplot(data=df_games, y='genres', orient='h')\n",
    "plt.show()"
   ]
  },
  {
   "cell_type": "code",
   "execution_count": 32,
   "metadata": {},
   "outputs": [
    {
     "data": {
      "text/html": [
       "<div>\n",
       "<style scoped>\n",
       "    .dataframe tbody tr th:only-of-type {\n",
       "        vertical-align: middle;\n",
       "    }\n",
       "\n",
       "    .dataframe tbody tr th {\n",
       "        vertical-align: top;\n",
       "    }\n",
       "\n",
       "    .dataframe thead th {\n",
       "        text-align: right;\n",
       "    }\n",
       "</style>\n",
       "<table border=\"1\" class=\"dataframe\">\n",
       "  <thead>\n",
       "    <tr style=\"text-align: right;\">\n",
       "      <th></th>\n",
       "      <th>Cantidad</th>\n",
       "      <th>Porcentaje</th>\n",
       "    </tr>\n",
       "    <tr>\n",
       "      <th>genres</th>\n",
       "      <th></th>\n",
       "      <th></th>\n",
       "    </tr>\n",
       "  </thead>\n",
       "  <tbody>\n",
       "    <tr>\n",
       "      <th>Indie</th>\n",
       "      <td>15858</td>\n",
       "      <td>22.16</td>\n",
       "    </tr>\n",
       "    <tr>\n",
       "      <th>Action</th>\n",
       "      <td>11319</td>\n",
       "      <td>15.82</td>\n",
       "    </tr>\n",
       "    <tr>\n",
       "      <th>Casual</th>\n",
       "      <td>8282</td>\n",
       "      <td>11.57</td>\n",
       "    </tr>\n",
       "    <tr>\n",
       "      <th>Adventure</th>\n",
       "      <td>8242</td>\n",
       "      <td>11.52</td>\n",
       "    </tr>\n",
       "    <tr>\n",
       "      <th>Strategy</th>\n",
       "      <td>6957</td>\n",
       "      <td>9.72</td>\n",
       "    </tr>\n",
       "    <tr>\n",
       "      <th>Simulation</th>\n",
       "      <td>6699</td>\n",
       "      <td>9.36</td>\n",
       "    </tr>\n",
       "    <tr>\n",
       "      <th>RPG</th>\n",
       "      <td>5479</td>\n",
       "      <td>7.66</td>\n",
       "    </tr>\n",
       "    <tr>\n",
       "      <th>Free to Play</th>\n",
       "      <td>2031</td>\n",
       "      <td>2.84</td>\n",
       "    </tr>\n",
       "    <tr>\n",
       "      <th>Early Access</th>\n",
       "      <td>1462</td>\n",
       "      <td>2.04</td>\n",
       "    </tr>\n",
       "    <tr>\n",
       "      <th>Sports</th>\n",
       "      <td>1257</td>\n",
       "      <td>1.76</td>\n",
       "    </tr>\n",
       "    <tr>\n",
       "      <th>Massively Multiplayer</th>\n",
       "      <td>1108</td>\n",
       "      <td>1.55</td>\n",
       "    </tr>\n",
       "    <tr>\n",
       "      <th>Racing</th>\n",
       "      <td>1083</td>\n",
       "      <td>1.51</td>\n",
       "    </tr>\n",
       "    <tr>\n",
       "      <th>Design &amp;amp; Illustration</th>\n",
       "      <td>460</td>\n",
       "      <td>0.64</td>\n",
       "    </tr>\n",
       "    <tr>\n",
       "      <th>Utilities</th>\n",
       "      <td>340</td>\n",
       "      <td>0.48</td>\n",
       "    </tr>\n",
       "    <tr>\n",
       "      <th>Web Publishing</th>\n",
       "      <td>268</td>\n",
       "      <td>0.37</td>\n",
       "    </tr>\n",
       "    <tr>\n",
       "      <th>Animation &amp;amp; Modeling</th>\n",
       "      <td>183</td>\n",
       "      <td>0.26</td>\n",
       "    </tr>\n",
       "    <tr>\n",
       "      <th>Education</th>\n",
       "      <td>125</td>\n",
       "      <td>0.17</td>\n",
       "    </tr>\n",
       "    <tr>\n",
       "      <th>Video Production</th>\n",
       "      <td>116</td>\n",
       "      <td>0.16</td>\n",
       "    </tr>\n",
       "    <tr>\n",
       "      <th>Software Training</th>\n",
       "      <td>105</td>\n",
       "      <td>0.15</td>\n",
       "    </tr>\n",
       "    <tr>\n",
       "      <th>Audio Production</th>\n",
       "      <td>93</td>\n",
       "      <td>0.13</td>\n",
       "    </tr>\n",
       "    <tr>\n",
       "      <th>Photo Editing</th>\n",
       "      <td>77</td>\n",
       "      <td>0.11</td>\n",
       "    </tr>\n",
       "    <tr>\n",
       "      <th>Accounting</th>\n",
       "      <td>7</td>\n",
       "      <td>0.01</td>\n",
       "    </tr>\n",
       "  </tbody>\n",
       "</table>\n",
       "</div>"
      ],
      "text/plain": [
       "                           Cantidad  Porcentaje\n",
       "genres                                         \n",
       "Indie                         15858       22.16\n",
       "Action                        11319       15.82\n",
       "Casual                         8282       11.57\n",
       "Adventure                      8242       11.52\n",
       "Strategy                       6957        9.72\n",
       "Simulation                     6699        9.36\n",
       "RPG                            5479        7.66\n",
       "Free to Play                   2031        2.84\n",
       "Early Access                   1462        2.04\n",
       "Sports                         1257        1.76\n",
       "Massively Multiplayer          1108        1.55\n",
       "Racing                         1083        1.51\n",
       "Design &amp; Illustration       460        0.64\n",
       "Utilities                       340        0.48\n",
       "Web Publishing                  268        0.37\n",
       "Animation &amp; Modeling        183        0.26\n",
       "Education                       125        0.17\n",
       "Video Production                116        0.16\n",
       "Software Training               105        0.15\n",
       "Audio Production                 93        0.13\n",
       "Photo Editing                    77        0.11\n",
       "Accounting                        7        0.01"
      ]
     },
     "execution_count": 32,
     "metadata": {},
     "output_type": "execute_result"
    }
   ],
   "source": [
    "resumen_cant_porcentaje(df_games, 'genres')"
   ]
  },
  {
   "cell_type": "markdown",
   "metadata": {},
   "source": [
    "Los juegos estan categorizados mayormente en las categorías *Indi*, *Action*, *Casual* y *Adventure*. Cabe recordar que un juego puede tener mas de un género asociado."
   ]
  },
  {
   "cell_type": "markdown",
   "metadata": {},
   "source": [
    "### Columna 'release_anio'"
   ]
  },
  {
   "cell_type": "code",
   "execution_count": 33,
   "metadata": {},
   "outputs": [
    {
     "data": {
      "text/html": [
       "<div>\n",
       "<style scoped>\n",
       "    .dataframe tbody tr th:only-of-type {\n",
       "        vertical-align: middle;\n",
       "    }\n",
       "\n",
       "    .dataframe tbody tr th {\n",
       "        vertical-align: top;\n",
       "    }\n",
       "\n",
       "    .dataframe thead th {\n",
       "        text-align: right;\n",
       "    }\n",
       "</style>\n",
       "<table border=\"1\" class=\"dataframe\">\n",
       "  <thead>\n",
       "    <tr style=\"text-align: right;\">\n",
       "      <th></th>\n",
       "      <th>Cantidad</th>\n",
       "      <th>Porcentaje</th>\n",
       "    </tr>\n",
       "    <tr>\n",
       "      <th>release_anio</th>\n",
       "      <th></th>\n",
       "      <th></th>\n",
       "    </tr>\n",
       "  </thead>\n",
       "  <tbody>\n",
       "    <tr>\n",
       "      <th>2017</th>\n",
       "      <td>24967</td>\n",
       "      <td>34.89</td>\n",
       "    </tr>\n",
       "    <tr>\n",
       "      <th>2016</th>\n",
       "      <td>17667</td>\n",
       "      <td>24.69</td>\n",
       "    </tr>\n",
       "    <tr>\n",
       "      <th>2015</th>\n",
       "      <td>12256</td>\n",
       "      <td>17.13</td>\n",
       "    </tr>\n",
       "    <tr>\n",
       "      <th>2014</th>\n",
       "      <td>6341</td>\n",
       "      <td>8.86</td>\n",
       "    </tr>\n",
       "    <tr>\n",
       "      <th>2013</th>\n",
       "      <td>3016</td>\n",
       "      <td>4.22</td>\n",
       "    </tr>\n",
       "    <tr>\n",
       "      <th>2012</th>\n",
       "      <td>2106</td>\n",
       "      <td>2.94</td>\n",
       "    </tr>\n",
       "    <tr>\n",
       "      <th>2011</th>\n",
       "      <td>986</td>\n",
       "      <td>1.38</td>\n",
       "    </tr>\n",
       "    <tr>\n",
       "      <th>Dato no disponible</th>\n",
       "      <td>850</td>\n",
       "      <td>1.19</td>\n",
       "    </tr>\n",
       "    <tr>\n",
       "      <th>2010</th>\n",
       "      <td>653</td>\n",
       "      <td>0.91</td>\n",
       "    </tr>\n",
       "    <tr>\n",
       "      <th>2009</th>\n",
       "      <td>486</td>\n",
       "      <td>0.68</td>\n",
       "    </tr>\n",
       "  </tbody>\n",
       "</table>\n",
       "</div>"
      ],
      "text/plain": [
       "                    Cantidad  Porcentaje\n",
       "release_anio                            \n",
       "2017                   24967       34.89\n",
       "2016                   17667       24.69\n",
       "2015                   12256       17.13\n",
       "2014                    6341        8.86\n",
       "2013                    3016        4.22\n",
       "2012                    2106        2.94\n",
       "2011                     986        1.38\n",
       "Dato no disponible       850        1.19\n",
       "2010                     653        0.91\n",
       "2009                     486        0.68"
      ]
     },
     "execution_count": 33,
     "metadata": {},
     "output_type": "execute_result"
    }
   ],
   "source": [
    "resumen_cant_porcentaje(df_games, 'release_anio')[:10]"
   ]
  },
  {
   "cell_type": "code",
   "execution_count": 34,
   "metadata": {},
   "outputs": [
    {
     "data": {
      "image/png": "[encoded data removed]",
      "text/plain": [
       "<Figure size 1400x500 with 1 Axes>"
      ]
     },
     "metadata": {},
     "output_type": "display_data"
    }
   ],
   "source": [
    "# Cuenta la frecuencia de cada año\n",
    "conteo_anios = df_games['release_anio'].value_counts()\n",
    "\n",
    "# Ordena los valores para que 'Datos no disponibles' queden al principio o al final\n",
    "conteo_anios = conteo_anios.reindex(['Dato no disponible'] + list(conteo_anios.index))\n",
    "# Ordena los valores por año\n",
    "conteo_anios = conteo_anios.sort_index()\n",
    "\n",
    "# Crear la gráfica de barras\n",
    "plt.figure(figsize=(14, 5))\n",
    "sns.barplot(x=conteo_anios.index, y=conteo_anios.values)\n",
    "plt.xlabel('Año de Lanzamiento') ; plt.ylabel('Cantidad de Registros') ; plt.title('Cantidad de Registros por Año de Lanzamiento')\n",
    "plt.xticks(rotation=45, ha='right')\n",
    "plt.tight_layout()\n",
    "plt.show()"
   ]
  },
  {
   "cell_type": "code",
   "execution_count": 35,
   "metadata": {},
   "outputs": [
    {
     "name": "stdout",
     "output_type": "stream",
     "text": [
      "Cantidad de registros antes de 2002: 679\n",
      "Cantidad de registros 'Dato no disponible': 850\n"
     ]
    }
   ],
   "source": [
    "# Filtra los registros con valores numéricos en la columna 'release_anio'\n",
    "registros_numericos = df_games[df_games['release_anio'].str.isnumeric()]\n",
    "# Convierte la columna 'release_anio' a valores enteros\n",
    "registros_numericos['release_anio'] = registros_numericos['release_anio'].astype(int)\n",
    "# Filtra los registros con años de lanzamiento antes de 2002\n",
    "registros_antes_2002 = registros_numericos[registros_numericos['release_anio'] < 2002]\n",
    "\n",
    "print(f\"Cantidad de registros antes de 2002: {len(registros_antes_2002)}\")\n",
    "print(f\"Cantidad de registros 'Dato no disponible': {df_games[df_games['release_anio'] == 'Dato no disponible'].shape[0]}\")"
   ]
  },
  {
   "cell_type": "markdown",
   "metadata": {},
   "source": [
    "Se pueden ver 679 juegos lanzados en años anteriores al 2002 lo que puede ser un error porque la plataforma se lanzó en el 2003. Por otra parte, se observan 850 juegos sin la fecha disponible debido a que no estaba especificada o estaba en un formato incorrecto. Luego se ve el crecimiento constante y lento hasta 2012 y luego crece mas rápidamente hasta 2017. A partir de allí, la plataforma limitó la forma de obtener las estadísticas, por eso se ven muchos menos registros."
   ]
  },
  {
   "cell_type": "markdown",
   "metadata": {},
   "source": [
    "### Columnas 'publisher' y 'developer'"
   ]
  },
  {
   "cell_type": "code",
   "execution_count": 36,
   "metadata": {},
   "outputs": [
    {
     "data": {
      "image/png": "[encoded data removed]",
      "text/plain": [
       "<Figure size 1200x500 with 2 Axes>"
      ]
     },
     "metadata": {},
     "output_type": "display_data"
    }
   ],
   "source": [
    "# Contar la cantidad de juegos por publisher\n",
    "conteo_publisher = df_games['publisher'].value_counts()\n",
    "\n",
    "# Contar la cantidad de juegos por developer\n",
    "conteo_developer = df_games['developer'].value_counts()\n",
    "\n",
    "# Crear una figura con dos subplots uno al lado del otro\n",
    "plt.figure(figsize=(12, 5))\n",
    "\n",
    "# Primer subplot para los publishers\n",
    "plt.subplot(1, 2, 1)\n",
    "conteo_publisher[:10].plot(kind='bar', color='skyblue')\n",
    "plt.xlabel('Publisher') ; plt.ylabel('Cantidad de Juegos') ; plt.title('Top 10 Publishers')\n",
    "\n",
    "# Segundo subplot para los developers\n",
    "plt.subplot(1, 2, 2)\n",
    "conteo_developer[:10].plot(kind='bar', color='orange')\n",
    "plt.xlabel('Developer') ; plt.ylabel('Cantidad de Juegos') ; plt.title('Top 10 Developers')\n",
    "\n",
    "# Muestra y ajustar el espaciado entre subplots\n",
    "plt.tight_layout()\n",
    "plt.show()"
   ]
  },
  {
   "cell_type": "markdown",
   "metadata": {},
   "source": [
    "En el caso de los publicista de juegos, la mayor cantidad no dispone del dato y en el caso de los desarrolladores, Ubisoft y SmiteWorks son los desarrolladores que mas juegos han desarrollado para la plataforma."
   ]
  },
  {
   "cell_type": "markdown",
   "metadata": {},
   "source": [
    "### Columna 'price'"
   ]
  },
  {
   "cell_type": "code",
   "execution_count": 38,
   "metadata": {},
   "outputs": [
    {
     "data": {
      "image/png": "[encoded data removed]",
      "text/plain": [
       "<Figure size 1400x800 with 2 Axes>"
      ]
     },
     "metadata": {},
     "output_type": "display_data"
    }
   ],
   "source": [
    "# Obtiene los precios para cada juego y hace un dataframe\n",
    "precio_unicos = df_games.groupby('id')['price'].unique().reset_index().explode('price')\n",
    "\n",
    "fig = plt.figure(figsize=(14, 8))\n",
    "\n",
    "# Graficar distribución de precios usando stripplot\n",
    "ax1 = fig.add_subplot(211)\n",
    "sns.stripplot(data=precio_unicos, x='price', ax=ax1)\n",
    "ax1.set_xlabel('Precio')\n",
    "ax1.set_ylabel('Cantidad de Juegos')\n",
    "ax1.set_title('Distribución de precios de los juegos')\n",
    "\n",
    "# Graficar distribución de precios usando boxplot\n",
    "ax2 = fig.add_subplot(212, sharex=ax1)\n",
    "sns.boxplot(data=precio_unicos, x='price', ax=ax2)\n",
    "ax2.set_xlabel('Precio')\n",
    "ax2.set_ylabel('Cantidad de Juegos')\n",
    "\n",
    "# Muestra y ajustar el espaciado entre subplots\n",
    "plt.tight_layout()\n",
    "plt.show()\n"
   ]
  },
  {
   "cell_type": "code",
   "execution_count": 40,
   "metadata": {},
   "outputs": [],
   "source": [
    "#funcion de bigote max\n",
    "def bigote_max(columna):\n",
    "    '''\n",
    "    Calcula el valor del bigote superior y la cantidad de valores atípicos en una columna.\n",
    "\n",
    "    Parameters:\n",
    "    - columna (pandas.Series): La columna de datos para la cual se desea calcular el bigote superior y encontrar valores atípicos.\n",
    "\n",
    "    Returns:\n",
    "    None\n",
    "    '''\n",
    "    # Cuartiles\n",
    "    q1 = columna.describe()[4]\n",
    "    q3 = columna.describe()[6]\n",
    "\n",
    "    # Valor del vigote\n",
    "    bigote_max = round(q3 + 1.5*(q3 - q1), 2)\n",
    "    print(f'El bigote superior de la variable {columna.name} se ubica en:', bigote_max)\n",
    "\n",
    "    # Cantidad de atípicos\n",
    "    print(f'Hay {(columna > bigote_max).sum()} valores atípicos en la variable {columna.name}')"
   ]
  },
  {
   "cell_type": "code",
   "execution_count": 46,
   "metadata": {},
   "outputs": [
    {
     "name": "stdout",
     "output_type": "stream",
     "text": [
      "El precio medio (mediana) de los juegos es de: 4.99\n",
      "El precio promedio (mean) de los juegos es de: 8.62\n",
      "El 75% de los juegos tienen un precio menor de: 9.99\n",
      "El bigote superior de la variable price se ubica en: 21.99\n",
      "Hay 1746 valores atípicos en la variable price\n"
     ]
    }
   ],
   "source": [
    "# Convertir la columna 'price' a un tipo numérico\n",
    "precio_unicos['price'] = pd.to_numeric(precio_unicos['price'], errors='coerce')\n",
    "\n",
    "# Obtener estadísticas descriptivas\n",
    "estadisticas = precio_unicos['price'].describe()\n",
    "\n",
    "# Imprimir las estadísticas\n",
    "print(f'El precio medio (mediana) de los juegos es de: {estadisticas[\"50%\"]}')\n",
    "print(f'El precio promedio (mean) de los juegos es de: {round(estadisticas[\"mean\"], 2)}')\n",
    "print(f'El 75% de los juegos tienen un precio menor de: {estadisticas[\"75%\"]}')\n",
    "bigote_max(pd.DataFrame(precio_unicos.astype(float))['price'])"
   ]
  },
  {
   "cell_type": "markdown",
   "metadata": {},
   "source": [
    "Se puede ver que casi el 50% de los juegos tienen precios entre 0 y los 4.99 dolares y el 75% de los juegos tienen precios inferior a los 9.99 dolares. Se Observan 1746 valores que se pueden considerar atípicos, con precios superior a los 21.99 dolares, pero sin dudas hay algunos juegos de mas de 250 dolares que pueden considerarse errores en los precios."
   ]
  },
  {
   "cell_type": "markdown",
   "metadata": {},
   "source": [
    "## EDA del dataset  `users_items`"
   ]
  },
  {
   "cell_type": "markdown",
   "metadata": {},
   "source": [
    "En esta sección se desarrolla el Análisis Exploratorio de los Datos del conjunto `users_items`  que ya pasó por el proceso de ETL."
   ]
  },
  {
   "cell_type": "markdown",
   "metadata": {},
   "source": [
    "### Lectura del conjunto de datos"
   ]
  },
  {
   "cell_type": "code",
   "execution_count": 47,
   "metadata": {},
   "outputs": [
    {
     "data": {
      "text/html": [
       "<div>\n",
       "<style scoped>\n",
       "    .dataframe tbody tr th:only-of-type {\n",
       "        vertical-align: middle;\n",
       "    }\n",
       "\n",
       "    .dataframe tbody tr th {\n",
       "        vertical-align: top;\n",
       "    }\n",
       "\n",
       "    .dataframe thead th {\n",
       "        text-align: right;\n",
       "    }\n",
       "</style>\n",
       "<table border=\"1\" class=\"dataframe\">\n",
       "  <thead>\n",
       "    <tr style=\"text-align: right;\">\n",
       "      <th></th>\n",
       "      <th>item_id</th>\n",
       "      <th>item_name</th>\n",
       "      <th>playtime_forever</th>\n",
       "      <th>steam_id</th>\n",
       "      <th>items_count</th>\n",
       "      <th>user_id</th>\n",
       "      <th>user_url</th>\n",
       "    </tr>\n",
       "  </thead>\n",
       "  <tbody>\n",
       "    <tr>\n",
       "      <th>0</th>\n",
       "      <td>10</td>\n",
       "      <td>Counter-Strike</td>\n",
       "      <td>6</td>\n",
       "      <td>76561197970982479</td>\n",
       "      <td>277</td>\n",
       "      <td>76561197970982479</td>\n",
       "      <td>http://steamcommunity.com/profiles/76561197970...</td>\n",
       "    </tr>\n",
       "    <tr>\n",
       "      <th>1</th>\n",
       "      <td>20</td>\n",
       "      <td>Team Fortress Classic</td>\n",
       "      <td>0</td>\n",
       "      <td>76561197970982479</td>\n",
       "      <td>277</td>\n",
       "      <td>76561197970982479</td>\n",
       "      <td>http://steamcommunity.com/profiles/76561197970...</td>\n",
       "    </tr>\n",
       "    <tr>\n",
       "      <th>2</th>\n",
       "      <td>30</td>\n",
       "      <td>Day of Defeat</td>\n",
       "      <td>7</td>\n",
       "      <td>76561197970982479</td>\n",
       "      <td>277</td>\n",
       "      <td>76561197970982479</td>\n",
       "      <td>http://steamcommunity.com/profiles/76561197970...</td>\n",
       "    </tr>\n",
       "    <tr>\n",
       "      <th>3</th>\n",
       "      <td>40</td>\n",
       "      <td>Deathmatch Classic</td>\n",
       "      <td>0</td>\n",
       "      <td>76561197970982479</td>\n",
       "      <td>277</td>\n",
       "      <td>76561197970982479</td>\n",
       "      <td>http://steamcommunity.com/profiles/76561197970...</td>\n",
       "    </tr>\n",
       "    <tr>\n",
       "      <th>4</th>\n",
       "      <td>50</td>\n",
       "      <td>Half-Life: Opposing Force</td>\n",
       "      <td>0</td>\n",
       "      <td>76561197970982479</td>\n",
       "      <td>277</td>\n",
       "      <td>76561197970982479</td>\n",
       "      <td>http://steamcommunity.com/profiles/76561197970...</td>\n",
       "    </tr>\n",
       "  </tbody>\n",
       "</table>\n",
       "</div>"
      ],
      "text/plain": [
       "   item_id                  item_name  playtime_forever           steam_id  \\\n",
       "0       10             Counter-Strike                 6  76561197970982479   \n",
       "1       20      Team Fortress Classic                 0  76561197970982479   \n",
       "2       30              Day of Defeat                 7  76561197970982479   \n",
       "3       40         Deathmatch Classic                 0  76561197970982479   \n",
       "4       50  Half-Life: Opposing Force                 0  76561197970982479   \n",
       "\n",
       "   items_count            user_id  \\\n",
       "0          277  76561197970982479   \n",
       "1          277  76561197970982479   \n",
       "2          277  76561197970982479   \n",
       "3          277  76561197970982479   \n",
       "4          277  76561197970982479   \n",
       "\n",
       "                                            user_url  \n",
       "0  http://steamcommunity.com/profiles/76561197970...  \n",
       "1  http://steamcommunity.com/profiles/76561197970...  \n",
       "2  http://steamcommunity.com/profiles/76561197970...  \n",
       "3  http://steamcommunity.com/profiles/76561197970...  \n",
       "4  http://steamcommunity.com/profiles/76561197970...  "
      ]
     },
     "execution_count": 47,
     "metadata": {},
     "output_type": "execute_result"
    }
   ],
   "source": [
    "df_items = pd.read_csv('data/user_items_cleaned.csv', encoding='utf-8')\n",
    "df_items.head()"
   ]
  },
  {
   "cell_type": "markdown",
   "metadata": {},
   "source": [
    "Se revisan los tipos de datos y cantidad de nulos si hay."
   ]
  },
  {
   "cell_type": "code",
   "execution_count": 49,
   "metadata": {},
   "outputs": [
    {
     "name": "stdout",
     "output_type": "stream",
     "text": [
      "La cantidad de registros que hay son: 5094105\n"
     ]
    },
    {
     "data": {
      "text/html": [
       "<div>\n",
       "<style scoped>\n",
       "    .dataframe tbody tr th:only-of-type {\n",
       "        vertical-align: middle;\n",
       "    }\n",
       "\n",
       "    .dataframe tbody tr th {\n",
       "        vertical-align: top;\n",
       "    }\n",
       "\n",
       "    .dataframe thead th {\n",
       "        text-align: right;\n",
       "    }\n",
       "</style>\n",
       "<table border=\"1\" class=\"dataframe\">\n",
       "  <thead>\n",
       "    <tr style=\"text-align: right;\">\n",
       "      <th></th>\n",
       "      <th>nombre_campo</th>\n",
       "      <th>tipo_datos</th>\n",
       "      <th>no_nulos_%</th>\n",
       "      <th>nulos_%</th>\n",
       "      <th>nulos</th>\n",
       "    </tr>\n",
       "  </thead>\n",
       "  <tbody>\n",
       "    <tr>\n",
       "      <th>0</th>\n",
       "      <td>item_id</td>\n",
       "      <td>[&lt;class 'int'&gt;]</td>\n",
       "      <td>100.0</td>\n",
       "      <td>0.0</td>\n",
       "      <td>0</td>\n",
       "    </tr>\n",
       "    <tr>\n",
       "      <th>1</th>\n",
       "      <td>item_name</td>\n",
       "      <td>[&lt;class 'str'&gt;]</td>\n",
       "      <td>100.0</td>\n",
       "      <td>0.0</td>\n",
       "      <td>0</td>\n",
       "    </tr>\n",
       "    <tr>\n",
       "      <th>2</th>\n",
       "      <td>playtime_forever</td>\n",
       "      <td>[&lt;class 'int'&gt;]</td>\n",
       "      <td>100.0</td>\n",
       "      <td>0.0</td>\n",
       "      <td>0</td>\n",
       "    </tr>\n",
       "    <tr>\n",
       "      <th>3</th>\n",
       "      <td>steam_id</td>\n",
       "      <td>[&lt;class 'int'&gt;]</td>\n",
       "      <td>100.0</td>\n",
       "      <td>0.0</td>\n",
       "      <td>0</td>\n",
       "    </tr>\n",
       "    <tr>\n",
       "      <th>4</th>\n",
       "      <td>items_count</td>\n",
       "      <td>[&lt;class 'int'&gt;]</td>\n",
       "      <td>100.0</td>\n",
       "      <td>0.0</td>\n",
       "      <td>0</td>\n",
       "    </tr>\n",
       "    <tr>\n",
       "      <th>5</th>\n",
       "      <td>user_id</td>\n",
       "      <td>[&lt;class 'str'&gt;]</td>\n",
       "      <td>100.0</td>\n",
       "      <td>0.0</td>\n",
       "      <td>0</td>\n",
       "    </tr>\n",
       "    <tr>\n",
       "      <th>6</th>\n",
       "      <td>user_url</td>\n",
       "      <td>[&lt;class 'str'&gt;]</td>\n",
       "      <td>100.0</td>\n",
       "      <td>0.0</td>\n",
       "      <td>0</td>\n",
       "    </tr>\n",
       "  </tbody>\n",
       "</table>\n",
       "</div>"
      ],
      "text/plain": [
       "       nombre_campo       tipo_datos  no_nulos_%  nulos_%  nulos\n",
       "0           item_id  [<class 'int'>]       100.0      0.0      0\n",
       "1         item_name  [<class 'str'>]       100.0      0.0      0\n",
       "2  playtime_forever  [<class 'int'>]       100.0      0.0      0\n",
       "3          steam_id  [<class 'int'>]       100.0      0.0      0\n",
       "4       items_count  [<class 'int'>]       100.0      0.0      0\n",
       "5           user_id  [<class 'str'>]       100.0      0.0      0\n",
       "6          user_url  [<class 'str'>]       100.0      0.0      0"
      ]
     },
     "execution_count": 49,
     "metadata": {},
     "output_type": "execute_result"
    }
   ],
   "source": [
    "# Se calcula la cantidad de registros\n",
    "print(f'La cantidad de registros que hay son: {df_items.shape[0]}')\n",
    "# Se revisan tipos de datos y existencias de nulos\n",
    "verificar_tipo_datos(df_items)"
   ]
  },
  {
   "cell_type": "markdown",
   "metadata": {},
   "source": [
    "Este conjunto de datos tiene 7 columnas y 5094105 registros. Para recordar, contiene la información relacionada los usuarios y los juegos que consumen como el tiempo acumulado (en minutos) que han jugado a un juego, la cantidad de items que consumen así como los identificadores de los juegos que consumen y del propio usuario y la url del perfil del mismo."
   ]
  },
  {
   "cell_type": "markdown",
   "metadata": {},
   "source": [
    "### Columna 'playtime_forever'"
   ]
  },
  {
   "cell_type": "markdown",
   "metadata": {},
   "source": [
    "Estas columnas hacen referencia al tiempo en minutos acumulados que un usuario ha jugado."
   ]
  },
  {
   "cell_type": "code",
   "execution_count": 50,
   "metadata": {},
   "outputs": [
    {
     "data": {
      "image/png": "[encoded data removed]",
      "text/plain": [
       "<Figure size 1400x400 with 2 Axes>"
      ]
     },
     "metadata": {},
     "output_type": "display_data"
    }
   ],
   "source": [
    "df_items['playtime_hours'] = df_items['playtime_forever'] / 60\n",
    "\n",
    "fig = plt.figure(figsize=(14, 4))\n",
    "\n",
    "ax1 = fig.add_subplot(211)\n",
    "sns.stripplot(data=df_items, x='playtime_hours', ax=ax1)\n",
    "ax1.set_xlabel('playtime_forever') ; ax1.set_ylabel('Cantidad de Juegos') ; ax1.set_title('Distribución de precios de los juegos')\n",
    "\n",
    "ax2 = fig.add_subplot(212, sharex=ax1)\n",
    "sns.boxplot(data=df_items, x='playtime_hours', ax=ax2)\n",
    "ax2.set_xlabel('playtime_forever (horas)') ; ax2.set_ylabel('Cantidad de Juegos')\n",
    "\n",
    "# Muestra y ajustar el espaciado entre subplots\n",
    "plt.tight_layout()\n",
    "plt.show()"
   ]
  },
  {
   "cell_type": "code",
   "execution_count": 25,
   "metadata": {},
   "outputs": [
    {
     "name": "stdout",
     "output_type": "stream",
     "text": [
      "El precio medio (mediana) de los juegos es de: 0.57\n",
      "El precio promedio (mean) de los juegos es de: 16.51\n",
      "El 75% de los juegos tienen un precio menor de: 5.92\n",
      "El bigote superior de la variable playtime_hours se ubica en: 14.79\n",
      "Hay 763606 valores atípicos en la variable playtime_hours\n"
     ]
    }
   ],
   "source": [
    "estadisticas = df_items['playtime_hours'].describe()\n",
    "print(f'El precio medio (mediana) de los juegos es de: {round(estadisticas[5],2)}')\n",
    "print(f'El precio promedio (mean) de los juegos es de: {round(estadisticas[1],2)}')\n",
    "print(f'El 75% de los juegos tienen un precio menor de: {round(estadisticas[6],2)}')\n",
    "utils.bigote_max(df_items['playtime_hours'])"
   ]
  },
  {
   "cell_type": "markdown",
   "metadata": {},
   "source": [
    "Se puede observar que cada usuario, por juego, pasa un tiempo medio de 0.57 hs jugando y el 75% de los jugadores estuvieron menos de 6 hs jugando a un juego, pero se observa una gran cantidad de valores atípicos por encima de las 14.79 hs que juega cada usuario a un juego. Esto podría deberse al uso de bots que utilizan el mismo perfil de usuario para jugar en simultaneo, lo que generaría una distorsión de los tiempos reales de juego."
   ]
  },
  {
   "cell_type": "markdown",
   "metadata": {},
   "source": [
    "### Columna 'items_count'"
   ]
  },
  {
   "cell_type": "markdown",
   "metadata": {},
   "source": [
    "Esta columna indica la cantidad de juegos que consumen o compraron alguna vez los usuarios."
   ]
  },
  {
   "cell_type": "code",
   "execution_count": 51,
   "metadata": {},
   "outputs": [
    {
     "data": {
      "image/png": "[encoded data removed]",
      "text/plain": [
       "<Figure size 1400x400 with 2 Axes>"
      ]
     },
     "metadata": {},
     "output_type": "display_data"
    }
   ],
   "source": [
    "# Agrupa por usuario la cantidad de items, lo conviente en data frame y los ordena de mayor a menor\n",
    "items_count_user = df_items.groupby('user_id')['items_count'].unique().explode()\n",
    "items_count_user = pd.DataFrame(items_count_user)\n",
    "items_count_user_o = items_count_user.sort_values('items_count', ascending=False)\n",
    "\n",
    "fig = plt.figure(figsize=(14, 4))\n",
    "\n",
    "ax1 = fig.add_subplot(211)\n",
    "sns.stripplot(data=items_count_user_o, x='items_count', ax=ax1)\n",
    "ax1.set_xlabel('items_count') ; ax1.set_title('Cantidad de items por usuarios')\n",
    "\n",
    "ax2 = fig.add_subplot(212, sharex=ax1)\n",
    "sns.boxplot(data=items_count_user_o, x='items_count', ax=ax2)\n",
    "ax2.set_xlabel('items_count')\n",
    "\n",
    "# Muestra y ajustar el espaciado entre subplots\n",
    "plt.tight_layout()\n",
    "plt.show()"
   ]
  },
  {
   "cell_type": "code",
   "execution_count": 52,
   "metadata": {},
   "outputs": [
    {
     "name": "stdout",
     "output_type": "stream",
     "text": [
      "El precio medio (mediana) de los juegos es de: 40.0\n",
      "El precio promedio (mean) de los juegos es de: 71.84\n",
      "El 75% de los juegos tienen un precio menor de: 87.0\n",
      "El bigote superior de la variable items_count se ubica en: 196.5\n",
      "Hay 4957 valores atípicos en la variable items_count\n"
     ]
    }
   ],
   "source": [
    "estadisticas = items_count_user['items_count'].astype(float).describe()\n",
    "print(f'El precio medio (mediana) de los juegos es de: {round(estadisticas[5],2)}')\n",
    "print(f'El precio promedio (mean) de los juegos es de: {round(estadisticas[1],2)}')\n",
    "print(f'El 75% de los juegos tienen un precio menor de: {round(estadisticas[6],2)}')\n",
    "bigote_max(items_count_user.astype(float)['items_count'])"
   ]
  },
  {
   "cell_type": "code",
   "execution_count": 53,
   "metadata": {},
   "outputs": [
    {
     "data": {
      "text/plain": [
       "<Figure size 1400x500 with 0 Axes>"
      ]
     },
     "metadata": {},
     "output_type": "display_data"
    },
    {
     "data": {
      "image/png": "[encoded data removed]",
      "text/plain": [
       "<Figure size 640x480 with 1 Axes>"
      ]
     },
     "metadata": {},
     "output_type": "display_data"
    }
   ],
   "source": [
    "# Grafica cantidad de item por usuarios\n",
    "plt.figure(figsize=(14, 5))\n",
    "items_count_user[:20].plot(kind='bar')\n",
    "plt.xlabel('Usuario') ; plt.ylabel('Cantidad de Juegos') ; plt.title('Top 20 item_count por usuario')\n",
    "plt.show()"
   ]
  },
  {
   "cell_type": "markdown",
   "metadata": {},
   "source": [
    "Se puede ver que el usuario que mas cantidad de juegos a consumido ronda los 8000 juegos, pero el 75% de los usuarios ha adquirido menos de 87 items. Se pueden ver 4957 usuarios que hay adquirido mas de 196 items que podrían considerarse como atípicos."
   ]
  },
  {
   "cell_type": "markdown",
   "metadata": {},
   "source": [
    "## Elección de las variables a usar en el modelo de recomendación"
   ]
  },
  {
   "cell_type": "markdown",
   "metadata": {},
   "source": [
    "Para el modelo de recomndación se busca como resultado la recomendación un una lista de 5 juegos a partir de indicar el nombre de un juego o el id de un usuario, basado en un puntaje que se debe decidir cómo crearlo. Para ello, se revisan los dataframe df_reviews y df_items analizados anteriormente."
   ]
  },
  {
   "cell_type": "code",
   "execution_count": 56,
   "metadata": {},
   "outputs": [],
   "source": [
    "df_reviews = pd.read_csv('data/user_review_cleaned1.csv', encoding='utf-8')\n",
    "df_items = pd.read_csv('data/user_items_cleaned.csv', encoding='utf-8')"
   ]
  },
  {
   "cell_type": "code",
   "execution_count": 57,
   "metadata": {},
   "outputs": [
    {
     "data": {
      "text/html": [
       "<div>\n",
       "<style scoped>\n",
       "    .dataframe tbody tr th:only-of-type {\n",
       "        vertical-align: middle;\n",
       "    }\n",
       "\n",
       "    .dataframe tbody tr th {\n",
       "        vertical-align: top;\n",
       "    }\n",
       "\n",
       "    .dataframe thead th {\n",
       "        text-align: right;\n",
       "    }\n",
       "</style>\n",
       "<table border=\"1\" class=\"dataframe\">\n",
       "  <thead>\n",
       "    <tr style=\"text-align: right;\">\n",
       "      <th></th>\n",
       "      <th>Unnamed: 0</th>\n",
       "      <th>user_id</th>\n",
       "      <th>user_url</th>\n",
       "      <th>reviews_item_id</th>\n",
       "      <th>reviews_helpful</th>\n",
       "      <th>reviews_recommend</th>\n",
       "      <th>reviews_date</th>\n",
       "      <th>sentiment_analysis</th>\n",
       "    </tr>\n",
       "  </thead>\n",
       "  <tbody>\n",
       "    <tr>\n",
       "      <th>0</th>\n",
       "      <td>0</td>\n",
       "      <td>76561197970982479</td>\n",
       "      <td>http://steamcommunity.com/profiles/76561197970...</td>\n",
       "      <td>1250</td>\n",
       "      <td>No ratings yet</td>\n",
       "      <td>True</td>\n",
       "      <td>2011-11-05</td>\n",
       "      <td>1</td>\n",
       "    </tr>\n",
       "    <tr>\n",
       "      <th>1</th>\n",
       "      <td>1</td>\n",
       "      <td>js41637</td>\n",
       "      <td>http://steamcommunity.com/id/js41637</td>\n",
       "      <td>251610</td>\n",
       "      <td>15 of 20 people (75%) found this review helpful</td>\n",
       "      <td>True</td>\n",
       "      <td>2014-06-24</td>\n",
       "      <td>1</td>\n",
       "    </tr>\n",
       "  </tbody>\n",
       "</table>\n",
       "</div>"
      ],
      "text/plain": [
       "   Unnamed: 0            user_id  \\\n",
       "0           0  76561197970982479   \n",
       "1           1            js41637   \n",
       "\n",
       "                                            user_url  reviews_item_id  \\\n",
       "0  http://steamcommunity.com/profiles/76561197970...             1250   \n",
       "1               http://steamcommunity.com/id/js41637           251610   \n",
       "\n",
       "                                   reviews_helpful  reviews_recommend  \\\n",
       "0                                   No ratings yet               True   \n",
       "1  15 of 20 people (75%) found this review helpful               True   \n",
       "\n",
       "  reviews_date  sentiment_analysis  \n",
       "0   2011-11-05                   1  \n",
       "1   2014-06-24                   1  "
      ]
     },
     "execution_count": 57,
     "metadata": {},
     "output_type": "execute_result"
    }
   ],
   "source": [
    "df_reviews.head(2)"
   ]
  },
  {
   "cell_type": "code",
   "execution_count": 58,
   "metadata": {},
   "outputs": [
    {
     "data": {
      "text/html": [
       "<div>\n",
       "<style scoped>\n",
       "    .dataframe tbody tr th:only-of-type {\n",
       "        vertical-align: middle;\n",
       "    }\n",
       "\n",
       "    .dataframe tbody tr th {\n",
       "        vertical-align: top;\n",
       "    }\n",
       "\n",
       "    .dataframe thead th {\n",
       "        text-align: right;\n",
       "    }\n",
       "</style>\n",
       "<table border=\"1\" class=\"dataframe\">\n",
       "  <thead>\n",
       "    <tr style=\"text-align: right;\">\n",
       "      <th></th>\n",
       "      <th>item_id</th>\n",
       "      <th>item_name</th>\n",
       "      <th>playtime_forever</th>\n",
       "      <th>steam_id</th>\n",
       "      <th>items_count</th>\n",
       "      <th>user_id</th>\n",
       "      <th>user_url</th>\n",
       "    </tr>\n",
       "  </thead>\n",
       "  <tbody>\n",
       "    <tr>\n",
       "      <th>0</th>\n",
       "      <td>10</td>\n",
       "      <td>Counter-Strike</td>\n",
       "      <td>6</td>\n",
       "      <td>76561197970982479</td>\n",
       "      <td>277</td>\n",
       "      <td>76561197970982479</td>\n",
       "      <td>http://steamcommunity.com/profiles/76561197970...</td>\n",
       "    </tr>\n",
       "    <tr>\n",
       "      <th>1</th>\n",
       "      <td>20</td>\n",
       "      <td>Team Fortress Classic</td>\n",
       "      <td>0</td>\n",
       "      <td>76561197970982479</td>\n",
       "      <td>277</td>\n",
       "      <td>76561197970982479</td>\n",
       "      <td>http://steamcommunity.com/profiles/76561197970...</td>\n",
       "    </tr>\n",
       "  </tbody>\n",
       "</table>\n",
       "</div>"
      ],
      "text/plain": [
       "   item_id              item_name  playtime_forever           steam_id  \\\n",
       "0       10         Counter-Strike                 6  76561197970982479   \n",
       "1       20  Team Fortress Classic                 0  76561197970982479   \n",
       "\n",
       "   items_count            user_id  \\\n",
       "0          277  76561197970982479   \n",
       "1          277  76561197970982479   \n",
       "\n",
       "                                            user_url  \n",
       "0  http://steamcommunity.com/profiles/76561197970...  \n",
       "1  http://steamcommunity.com/profiles/76561197970...  "
      ]
     },
     "execution_count": 58,
     "metadata": {},
     "output_type": "execute_result"
    }
   ],
   "source": [
    "df_items.head(2)"
   ]
  },
  {
   "cell_type": "markdown",
   "metadata": {},
   "source": [
    "Con los datos disponible, se decide crear un puntaje (rating) para los juegos a partir de considerar el análisis de sentimiento de las reviews para cada juego y las recomendaciones del usuario para ese juego. Recordar que el análisis de sentimiento esta calificado como 0 (sentimiento negativo), 1 (sentimiento neutral) y 2 (sentimiento positivo) y las recomendaciones al juego son True (cuando lo recomienda) y False (cuando no recomienda el juego). Con esta información se busca hacer un puntaje del 1 al 5, siendo el 1 un juego no recomendado que cuentan con reviews con sentimientos negativos y 5 un juego recomendado y con reviews positivos. Se considera esta escala en función de la combinación de las dos variables de esta manera:\n",
    "\n",
    "* **1** si el análisis de sentimiento es negativo ya sea que este recomendado o no (True o False)\n",
    "* **2** si el análisis de sentimiento es neutral y no es recomendado (False)\n",
    "* **3** si el análisis de sentimiento es neutral pero es recomendado (True)\n",
    "* **4** si el análisis de sentimiento es positivo y no es recomendado (False)\n",
    "* **5** si el análisis de sentimiento es positivo y es recomendado (True)\n",
    "\n",
    "Con esto, se arma la siguiente función:"
   ]
  },
  {
   "cell_type": "code",
   "execution_count": 60,
   "metadata": {},
   "outputs": [],
   "source": [
    "def calcular_rating(row):\n",
    "    '''\n",
    "    Calcula una calificación basada en el análisis de sentimientos y la recomendación de review de juegos realizado por los usuarios.\n",
    "\n",
    "    Parámetros:\n",
    "    row (dict): Un diccionario que contiene las siguientes claves:\n",
    "        - \"sentiment_analysis\" (int): La puntuación del análisis de sentimientos (0, 1 o 2).\n",
    "        - \"reviews_recommend\" (bool): Indica si las reseñas recomiendan.\n",
    "\n",
    "    Devuelve:\n",
    "        int o None: La calificación calculada como un número entero entre 1 y 5, o None si las entradas son inválidas.\n",
    "    '''\n",
    "    if row[\"sentiment_analysis\"] == 0 and not row[\"reviews_recommend\"]:\n",
    "        return 1\n",
    "    elif row[\"sentiment_analysis\"] == 0 and row[\"reviews_recommend\"]:\n",
    "        return 1\n",
    "    elif row[\"sentiment_analysis\"] == 1 and not row[\"reviews_recommend\"]:\n",
    "        return 2\n",
    "    elif row[\"sentiment_analysis\"] == 1 and row[\"reviews_recommend\"]:\n",
    "        return 3\n",
    "    elif row[\"sentiment_analysis\"] == 2 and not row[\"reviews_recommend\"]:\n",
    "        return 4\n",
    "    elif row[\"sentiment_analysis\"] == 2 and row[\"reviews_recommend\"]:\n",
    "        return 5\n",
    "    else:\n",
    "        return None"
   ]
  },
  {
   "cell_type": "markdown",
   "metadata": {},
   "source": [
    "Se aplica esta función en una nueva columna sobre el dataframe `df_reviews`"
   ]
  },
  {
   "cell_type": "code",
   "execution_count": 61,
   "metadata": {},
   "outputs": [
    {
     "data": {
      "text/html": [
       "<div>\n",
       "<style scoped>\n",
       "    .dataframe tbody tr th:only-of-type {\n",
       "        vertical-align: middle;\n",
       "    }\n",
       "\n",
       "    .dataframe tbody tr th {\n",
       "        vertical-align: top;\n",
       "    }\n",
       "\n",
       "    .dataframe thead th {\n",
       "        text-align: right;\n",
       "    }\n",
       "</style>\n",
       "<table border=\"1\" class=\"dataframe\">\n",
       "  <thead>\n",
       "    <tr style=\"text-align: right;\">\n",
       "      <th></th>\n",
       "      <th>Unnamed: 0</th>\n",
       "      <th>user_id</th>\n",
       "      <th>user_url</th>\n",
       "      <th>reviews_item_id</th>\n",
       "      <th>reviews_helpful</th>\n",
       "      <th>reviews_recommend</th>\n",
       "      <th>reviews_date</th>\n",
       "      <th>sentiment_analysis</th>\n",
       "      <th>rating</th>\n",
       "    </tr>\n",
       "  </thead>\n",
       "  <tbody>\n",
       "    <tr>\n",
       "      <th>0</th>\n",
       "      <td>0</td>\n",
       "      <td>76561197970982479</td>\n",
       "      <td>http://steamcommunity.com/profiles/76561197970...</td>\n",
       "      <td>1250</td>\n",
       "      <td>No ratings yet</td>\n",
       "      <td>True</td>\n",
       "      <td>2011-11-05</td>\n",
       "      <td>1</td>\n",
       "      <td>3</td>\n",
       "    </tr>\n",
       "    <tr>\n",
       "      <th>1</th>\n",
       "      <td>1</td>\n",
       "      <td>js41637</td>\n",
       "      <td>http://steamcommunity.com/id/js41637</td>\n",
       "      <td>251610</td>\n",
       "      <td>15 of 20 people (75%) found this review helpful</td>\n",
       "      <td>True</td>\n",
       "      <td>2014-06-24</td>\n",
       "      <td>1</td>\n",
       "      <td>3</td>\n",
       "    </tr>\n",
       "  </tbody>\n",
       "</table>\n",
       "</div>"
      ],
      "text/plain": [
       "   Unnamed: 0            user_id  \\\n",
       "0           0  76561197970982479   \n",
       "1           1            js41637   \n",
       "\n",
       "                                            user_url  reviews_item_id  \\\n",
       "0  http://steamcommunity.com/profiles/76561197970...             1250   \n",
       "1               http://steamcommunity.com/id/js41637           251610   \n",
       "\n",
       "                                   reviews_helpful  reviews_recommend  \\\n",
       "0                                   No ratings yet               True   \n",
       "1  15 of 20 people (75%) found this review helpful               True   \n",
       "\n",
       "  reviews_date  sentiment_analysis  rating  \n",
       "0   2011-11-05                   1       3  \n",
       "1   2014-06-24                   1       3  "
      ]
     },
     "execution_count": 61,
     "metadata": {},
     "output_type": "execute_result"
    }
   ],
   "source": [
    "df_reviews['rating'] = df_reviews.apply(calcular_rating, axis=1)\n",
    "df_reviews.head(2)"
   ]
  },
  {
   "cell_type": "markdown",
   "metadata": {},
   "source": [
    "Se crea un nuevo dataframe dejando solo las columnas 'user_id', 'reviews_item_id' y 'rating' y se reserva."
   ]
  },
  {
   "cell_type": "code",
   "execution_count": 62,
   "metadata": {},
   "outputs": [
    {
     "data": {
      "text/html": [
       "<div>\n",
       "<style scoped>\n",
       "    .dataframe tbody tr th:only-of-type {\n",
       "        vertical-align: middle;\n",
       "    }\n",
       "\n",
       "    .dataframe tbody tr th {\n",
       "        vertical-align: top;\n",
       "    }\n",
       "\n",
       "    .dataframe thead th {\n",
       "        text-align: right;\n",
       "    }\n",
       "</style>\n",
       "<table border=\"1\" class=\"dataframe\">\n",
       "  <thead>\n",
       "    <tr style=\"text-align: right;\">\n",
       "      <th></th>\n",
       "      <th>user_id</th>\n",
       "      <th>reviews_item_id</th>\n",
       "      <th>rating</th>\n",
       "    </tr>\n",
       "  </thead>\n",
       "  <tbody>\n",
       "    <tr>\n",
       "      <th>0</th>\n",
       "      <td>76561197970982479</td>\n",
       "      <td>1250</td>\n",
       "      <td>3</td>\n",
       "    </tr>\n",
       "    <tr>\n",
       "      <th>1</th>\n",
       "      <td>js41637</td>\n",
       "      <td>251610</td>\n",
       "      <td>3</td>\n",
       "    </tr>\n",
       "  </tbody>\n",
       "</table>\n",
       "</div>"
      ],
      "text/plain": [
       "             user_id  reviews_item_id  rating\n",
       "0  76561197970982479             1250       3\n",
       "1            js41637           251610       3"
      ]
     },
     "execution_count": 62,
     "metadata": {},
     "output_type": "execute_result"
    }
   ],
   "source": [
    "df1 = df_reviews[['user_id', 'reviews_item_id', 'rating']]\n",
    "df1.head(2)"
   ]
  },
  {
   "cell_type": "markdown",
   "metadata": {},
   "source": [
    "Se crea otro dataframe que contenga unicamente los 'item_id' y los nombres de los juego."
   ]
  },
  {
   "cell_type": "code",
   "execution_count": 63,
   "metadata": {},
   "outputs": [
    {
     "name": "stdout",
     "output_type": "stream",
     "text": [
      "Hay un total de 10978 juegos\n"
     ]
    },
    {
     "data": {
      "text/html": [
       "<div>\n",
       "<style scoped>\n",
       "    .dataframe tbody tr th:only-of-type {\n",
       "        vertical-align: middle;\n",
       "    }\n",
       "\n",
       "    .dataframe tbody tr th {\n",
       "        vertical-align: top;\n",
       "    }\n",
       "\n",
       "    .dataframe thead th {\n",
       "        text-align: right;\n",
       "    }\n",
       "</style>\n",
       "<table border=\"1\" class=\"dataframe\">\n",
       "  <thead>\n",
       "    <tr style=\"text-align: right;\">\n",
       "      <th></th>\n",
       "      <th>item_id</th>\n",
       "      <th>item_name</th>\n",
       "    </tr>\n",
       "  </thead>\n",
       "  <tbody>\n",
       "    <tr>\n",
       "      <th>0</th>\n",
       "      <td>10</td>\n",
       "      <td>Counter-Strike</td>\n",
       "    </tr>\n",
       "    <tr>\n",
       "      <th>1</th>\n",
       "      <td>20</td>\n",
       "      <td>Team Fortress Classic</td>\n",
       "    </tr>\n",
       "  </tbody>\n",
       "</table>\n",
       "</div>"
      ],
      "text/plain": [
       "   item_id              item_name\n",
       "0       10         Counter-Strike\n",
       "1       20  Team Fortress Classic"
      ]
     },
     "execution_count": 63,
     "metadata": {},
     "output_type": "execute_result"
    }
   ],
   "source": [
    "df2 = df_items[['item_id', 'item_name']]\n",
    "# Se borran los dumplicados\n",
    "df2 = df2.drop_duplicates()\n",
    "# Cantidad de juegos\n",
    "print(f'Hay un total de {len(df2)} juegos')\n",
    "df2.head(2)"
   ]
  },
  {
   "cell_type": "markdown",
   "metadata": {},
   "source": [
    "Luego se agregan los nombres de los juegos al primer dataframe."
   ]
  },
  {
   "cell_type": "code",
   "execution_count": 64,
   "metadata": {},
   "outputs": [
    {
     "data": {
      "text/html": [
       "<div>\n",
       "<style scoped>\n",
       "    .dataframe tbody tr th:only-of-type {\n",
       "        vertical-align: middle;\n",
       "    }\n",
       "\n",
       "    .dataframe tbody tr th {\n",
       "        vertical-align: top;\n",
       "    }\n",
       "\n",
       "    .dataframe thead th {\n",
       "        text-align: right;\n",
       "    }\n",
       "</style>\n",
       "<table border=\"1\" class=\"dataframe\">\n",
       "  <thead>\n",
       "    <tr style=\"text-align: right;\">\n",
       "      <th></th>\n",
       "      <th>user_id</th>\n",
       "      <th>reviews_item_id</th>\n",
       "      <th>rating</th>\n",
       "      <th>item_id</th>\n",
       "      <th>item_name</th>\n",
       "    </tr>\n",
       "  </thead>\n",
       "  <tbody>\n",
       "    <tr>\n",
       "      <th>0</th>\n",
       "      <td>76561197970982479</td>\n",
       "      <td>1250</td>\n",
       "      <td>3</td>\n",
       "      <td>1250.0</td>\n",
       "      <td>Killing Floor</td>\n",
       "    </tr>\n",
       "    <tr>\n",
       "      <th>1</th>\n",
       "      <td>js41637</td>\n",
       "      <td>251610</td>\n",
       "      <td>3</td>\n",
       "      <td>251610.0</td>\n",
       "      <td>Barbie™ Dreamhouse Party™</td>\n",
       "    </tr>\n",
       "    <tr>\n",
       "      <th>2</th>\n",
       "      <td>evcentric</td>\n",
       "      <td>248820</td>\n",
       "      <td>5</td>\n",
       "      <td>248820.0</td>\n",
       "      <td>Risk of Rain</td>\n",
       "    </tr>\n",
       "    <tr>\n",
       "      <th>3</th>\n",
       "      <td>doctr</td>\n",
       "      <td>250320</td>\n",
       "      <td>5</td>\n",
       "      <td>250320.0</td>\n",
       "      <td>The Wolf Among Us</td>\n",
       "    </tr>\n",
       "    <tr>\n",
       "      <th>4</th>\n",
       "      <td>maplemage</td>\n",
       "      <td>211420</td>\n",
       "      <td>3</td>\n",
       "      <td>211420.0</td>\n",
       "      <td>Dark Souls: Prepare to Die Edition</td>\n",
       "    </tr>\n",
       "    <tr>\n",
       "      <th>...</th>\n",
       "      <td>...</td>\n",
       "      <td>...</td>\n",
       "      <td>...</td>\n",
       "      <td>...</td>\n",
       "      <td>...</td>\n",
       "    </tr>\n",
       "    <tr>\n",
       "      <th>57362</th>\n",
       "      <td>How51</td>\n",
       "      <td>440</td>\n",
       "      <td>3</td>\n",
       "      <td>NaN</td>\n",
       "      <td>NaN</td>\n",
       "    </tr>\n",
       "    <tr>\n",
       "      <th>57363</th>\n",
       "      <td>76561198111410893</td>\n",
       "      <td>304930</td>\n",
       "      <td>3</td>\n",
       "      <td>304930.0</td>\n",
       "      <td>Unturned</td>\n",
       "    </tr>\n",
       "    <tr>\n",
       "      <th>57364</th>\n",
       "      <td>zaza147</td>\n",
       "      <td>265630</td>\n",
       "      <td>5</td>\n",
       "      <td>265630.0</td>\n",
       "      <td>Fistful of Frags</td>\n",
       "    </tr>\n",
       "    <tr>\n",
       "      <th>57365</th>\n",
       "      <td>lifeonhigh</td>\n",
       "      <td>304050</td>\n",
       "      <td>3</td>\n",
       "      <td>304050.0</td>\n",
       "      <td>Trove</td>\n",
       "    </tr>\n",
       "    <tr>\n",
       "      <th>57366</th>\n",
       "      <td>EchoXSilence</td>\n",
       "      <td>570</td>\n",
       "      <td>2</td>\n",
       "      <td>NaN</td>\n",
       "      <td>NaN</td>\n",
       "    </tr>\n",
       "  </tbody>\n",
       "</table>\n",
       "<p>57367 rows × 5 columns</p>\n",
       "</div>"
      ],
      "text/plain": [
       "                 user_id  reviews_item_id  rating   item_id  \\\n",
       "0      76561197970982479             1250       3    1250.0   \n",
       "1                js41637           251610       3  251610.0   \n",
       "2              evcentric           248820       5  248820.0   \n",
       "3                  doctr           250320       5  250320.0   \n",
       "4              maplemage           211420       3  211420.0   \n",
       "...                  ...              ...     ...       ...   \n",
       "57362              How51              440       3       NaN   \n",
       "57363  76561198111410893           304930       3  304930.0   \n",
       "57364            zaza147           265630       5  265630.0   \n",
       "57365         lifeonhigh           304050       3  304050.0   \n",
       "57366       EchoXSilence              570       2       NaN   \n",
       "\n",
       "                                item_name  \n",
       "0                           Killing Floor  \n",
       "1               Barbie™ Dreamhouse Party™  \n",
       "2                            Risk of Rain  \n",
       "3                       The Wolf Among Us  \n",
       "4      Dark Souls: Prepare to Die Edition  \n",
       "...                                   ...  \n",
       "57362                                 NaN  \n",
       "57363                            Unturned  \n",
       "57364                    Fistful of Frags  \n",
       "57365                               Trove  \n",
       "57366                                 NaN  \n",
       "\n",
       "[57367 rows x 5 columns]"
      ]
     },
     "execution_count": 64,
     "metadata": {},
     "output_type": "execute_result"
    }
   ],
   "source": [
    "df = df1.merge(df2, left_on=\"reviews_item_id\", right_on=\"item_id\", how='left')\n",
    "df"
   ]
  },
  {
   "cell_type": "markdown",
   "metadata": {},
   "source": [
    "Se pueden observar algunos juegos a los cuales los usuarios les hicieron comentarios, pero que no estan en el dataframe `df_reviews`. Se verifican los tipos de datos y la cantidad de nulos y luego se revisan las filas con nulos."
   ]
  },
  {
   "cell_type": "code",
   "execution_count": 66,
   "metadata": {},
   "outputs": [
    {
     "data": {
      "text/html": [
       "<div>\n",
       "<style scoped>\n",
       "    .dataframe tbody tr th:only-of-type {\n",
       "        vertical-align: middle;\n",
       "    }\n",
       "\n",
       "    .dataframe tbody tr th {\n",
       "        vertical-align: top;\n",
       "    }\n",
       "\n",
       "    .dataframe thead th {\n",
       "        text-align: right;\n",
       "    }\n",
       "</style>\n",
       "<table border=\"1\" class=\"dataframe\">\n",
       "  <thead>\n",
       "    <tr style=\"text-align: right;\">\n",
       "      <th></th>\n",
       "      <th>nombre_campo</th>\n",
       "      <th>tipo_datos</th>\n",
       "      <th>no_nulos_%</th>\n",
       "      <th>nulos_%</th>\n",
       "      <th>nulos</th>\n",
       "    </tr>\n",
       "  </thead>\n",
       "  <tbody>\n",
       "    <tr>\n",
       "      <th>0</th>\n",
       "      <td>user_id</td>\n",
       "      <td>[&lt;class 'str'&gt;]</td>\n",
       "      <td>100.00</td>\n",
       "      <td>0.00</td>\n",
       "      <td>0</td>\n",
       "    </tr>\n",
       "    <tr>\n",
       "      <th>1</th>\n",
       "      <td>reviews_item_id</td>\n",
       "      <td>[&lt;class 'int'&gt;]</td>\n",
       "      <td>100.00</td>\n",
       "      <td>0.00</td>\n",
       "      <td>0</td>\n",
       "    </tr>\n",
       "    <tr>\n",
       "      <th>2</th>\n",
       "      <td>rating</td>\n",
       "      <td>[&lt;class 'int'&gt;]</td>\n",
       "      <td>100.00</td>\n",
       "      <td>0.00</td>\n",
       "      <td>0</td>\n",
       "    </tr>\n",
       "    <tr>\n",
       "      <th>3</th>\n",
       "      <td>item_id</td>\n",
       "      <td>[&lt;class 'float'&gt;]</td>\n",
       "      <td>88.97</td>\n",
       "      <td>11.03</td>\n",
       "      <td>6328</td>\n",
       "    </tr>\n",
       "    <tr>\n",
       "      <th>4</th>\n",
       "      <td>item_name</td>\n",
       "      <td>[&lt;class 'str'&gt;, &lt;class 'float'&gt;]</td>\n",
       "      <td>88.97</td>\n",
       "      <td>11.03</td>\n",
       "      <td>6328</td>\n",
       "    </tr>\n",
       "  </tbody>\n",
       "</table>\n",
       "</div>"
      ],
      "text/plain": [
       "      nombre_campo                        tipo_datos  no_nulos_%  nulos_%  \\\n",
       "0          user_id                   [<class 'str'>]      100.00     0.00   \n",
       "1  reviews_item_id                   [<class 'int'>]      100.00     0.00   \n",
       "2           rating                   [<class 'int'>]      100.00     0.00   \n",
       "3          item_id                 [<class 'float'>]       88.97    11.03   \n",
       "4        item_name  [<class 'str'>, <class 'float'>]       88.97    11.03   \n",
       "\n",
       "   nulos  \n",
       "0      0  \n",
       "1      0  \n",
       "2      0  \n",
       "3   6328  \n",
       "4   6328  "
      ]
     },
     "execution_count": 66,
     "metadata": {},
     "output_type": "execute_result"
    }
   ],
   "source": [
    "verificar_tipo_datos(df)"
   ]
  },
  {
   "cell_type": "code",
   "execution_count": 67,
   "metadata": {},
   "outputs": [
    {
     "name": "stdout",
     "output_type": "stream",
     "text": [
      "Hay un total de 354 juegos con reviews pero que no estan en `df_reviews`\n"
     ]
    },
    {
     "data": {
      "text/html": [
       "<div>\n",
       "<style scoped>\n",
       "    .dataframe tbody tr th:only-of-type {\n",
       "        vertical-align: middle;\n",
       "    }\n",
       "\n",
       "    .dataframe tbody tr th {\n",
       "        vertical-align: top;\n",
       "    }\n",
       "\n",
       "    .dataframe thead th {\n",
       "        text-align: right;\n",
       "    }\n",
       "</style>\n",
       "<table border=\"1\" class=\"dataframe\">\n",
       "  <thead>\n",
       "    <tr style=\"text-align: right;\">\n",
       "      <th></th>\n",
       "      <th>user_id</th>\n",
       "      <th>reviews_item_id</th>\n",
       "      <th>rating</th>\n",
       "      <th>item_id</th>\n",
       "      <th>item_name</th>\n",
       "    </tr>\n",
       "  </thead>\n",
       "  <tbody>\n",
       "    <tr>\n",
       "      <th>10</th>\n",
       "      <td>76561198077246154</td>\n",
       "      <td>440</td>\n",
       "      <td>3</td>\n",
       "      <td>NaN</td>\n",
       "      <td>NaN</td>\n",
       "    </tr>\n",
       "    <tr>\n",
       "      <th>19</th>\n",
       "      <td>devvonst</td>\n",
       "      <td>440</td>\n",
       "      <td>5</td>\n",
       "      <td>NaN</td>\n",
       "      <td>NaN</td>\n",
       "    </tr>\n",
       "    <tr>\n",
       "      <th>28</th>\n",
       "      <td>76561198076909484</td>\n",
       "      <td>570</td>\n",
       "      <td>1</td>\n",
       "      <td>NaN</td>\n",
       "      <td>NaN</td>\n",
       "    </tr>\n",
       "    <tr>\n",
       "      <th>36</th>\n",
       "      <td>boydeer</td>\n",
       "      <td>440</td>\n",
       "      <td>3</td>\n",
       "      <td>NaN</td>\n",
       "      <td>NaN</td>\n",
       "    </tr>\n",
       "    <tr>\n",
       "      <th>43</th>\n",
       "      <td>jarrodtrim</td>\n",
       "      <td>440</td>\n",
       "      <td>5</td>\n",
       "      <td>NaN</td>\n",
       "      <td>NaN</td>\n",
       "    </tr>\n",
       "    <tr>\n",
       "      <th>...</th>\n",
       "      <td>...</td>\n",
       "      <td>...</td>\n",
       "      <td>...</td>\n",
       "      <td>...</td>\n",
       "      <td>...</td>\n",
       "    </tr>\n",
       "    <tr>\n",
       "      <th>57323</th>\n",
       "      <td>ViniReaper</td>\n",
       "      <td>440</td>\n",
       "      <td>5</td>\n",
       "      <td>NaN</td>\n",
       "      <td>NaN</td>\n",
       "    </tr>\n",
       "    <tr>\n",
       "      <th>57346</th>\n",
       "      <td>BlinkV1</td>\n",
       "      <td>440</td>\n",
       "      <td>3</td>\n",
       "      <td>NaN</td>\n",
       "      <td>NaN</td>\n",
       "    </tr>\n",
       "    <tr>\n",
       "      <th>57353</th>\n",
       "      <td>76561198095035915</td>\n",
       "      <td>440</td>\n",
       "      <td>1</td>\n",
       "      <td>NaN</td>\n",
       "      <td>NaN</td>\n",
       "    </tr>\n",
       "    <tr>\n",
       "      <th>57362</th>\n",
       "      <td>How51</td>\n",
       "      <td>440</td>\n",
       "      <td>3</td>\n",
       "      <td>NaN</td>\n",
       "      <td>NaN</td>\n",
       "    </tr>\n",
       "    <tr>\n",
       "      <th>57366</th>\n",
       "      <td>EchoXSilence</td>\n",
       "      <td>570</td>\n",
       "      <td>2</td>\n",
       "      <td>NaN</td>\n",
       "      <td>NaN</td>\n",
       "    </tr>\n",
       "  </tbody>\n",
       "</table>\n",
       "<p>6328 rows × 5 columns</p>\n",
       "</div>"
      ],
      "text/plain": [
       "                 user_id  reviews_item_id  rating  item_id item_name\n",
       "10     76561198077246154              440       3      NaN       NaN\n",
       "19              devvonst              440       5      NaN       NaN\n",
       "28     76561198076909484              570       1      NaN       NaN\n",
       "36               boydeer              440       3      NaN       NaN\n",
       "43            jarrodtrim              440       5      NaN       NaN\n",
       "...                  ...              ...     ...      ...       ...\n",
       "57323         ViniReaper              440       5      NaN       NaN\n",
       "57346            BlinkV1              440       3      NaN       NaN\n",
       "57353  76561198095035915              440       1      NaN       NaN\n",
       "57362              How51              440       3      NaN       NaN\n",
       "57366       EchoXSilence              570       2      NaN       NaN\n",
       "\n",
       "[6328 rows x 5 columns]"
      ]
     },
     "execution_count": 67,
     "metadata": {},
     "output_type": "execute_result"
    }
   ],
   "source": [
    "# se revisan los reviews sin nombres de juegos en `df_items`\n",
    "sin_juegos = df[df.isnull().any(axis=1)]\n",
    "# Se calculan la cantidad de juegos en esta situación\n",
    "print(f\"Hay un total de {len(sin_juegos['reviews_item_id'].unique())} juegos con reviews pero que no estan en `df_reviews`\")\n",
    "sin_juegos"
   ]
  },
  {
   "cell_type": "markdown",
   "metadata": {},
   "source": [
    "Se decide borrarlos del conjunto de datos."
   ]
  },
  {
   "cell_type": "code",
   "execution_count": 69,
   "metadata": {},
   "outputs": [
    {
     "name": "stdout",
     "output_type": "stream",
     "text": [
      "Quedan 51039 registros\n"
     ]
    },
    {
     "data": {
      "text/html": [
       "<div>\n",
       "<style scoped>\n",
       "    .dataframe tbody tr th:only-of-type {\n",
       "        vertical-align: middle;\n",
       "    }\n",
       "\n",
       "    .dataframe tbody tr th {\n",
       "        vertical-align: top;\n",
       "    }\n",
       "\n",
       "    .dataframe thead th {\n",
       "        text-align: right;\n",
       "    }\n",
       "</style>\n",
       "<table border=\"1\" class=\"dataframe\">\n",
       "  <thead>\n",
       "    <tr style=\"text-align: right;\">\n",
       "      <th></th>\n",
       "      <th>nombre_campo</th>\n",
       "      <th>tipo_datos</th>\n",
       "      <th>no_nulos_%</th>\n",
       "      <th>nulos_%</th>\n",
       "      <th>nulos</th>\n",
       "    </tr>\n",
       "  </thead>\n",
       "  <tbody>\n",
       "    <tr>\n",
       "      <th>0</th>\n",
       "      <td>user_id</td>\n",
       "      <td>[&lt;class 'str'&gt;]</td>\n",
       "      <td>100.0</td>\n",
       "      <td>0.0</td>\n",
       "      <td>0</td>\n",
       "    </tr>\n",
       "    <tr>\n",
       "      <th>1</th>\n",
       "      <td>reviews_item_id</td>\n",
       "      <td>[&lt;class 'int'&gt;]</td>\n",
       "      <td>100.0</td>\n",
       "      <td>0.0</td>\n",
       "      <td>0</td>\n",
       "    </tr>\n",
       "    <tr>\n",
       "      <th>2</th>\n",
       "      <td>rating</td>\n",
       "      <td>[&lt;class 'int'&gt;]</td>\n",
       "      <td>100.0</td>\n",
       "      <td>0.0</td>\n",
       "      <td>0</td>\n",
       "    </tr>\n",
       "    <tr>\n",
       "      <th>3</th>\n",
       "      <td>item_id</td>\n",
       "      <td>[&lt;class 'float'&gt;]</td>\n",
       "      <td>100.0</td>\n",
       "      <td>0.0</td>\n",
       "      <td>0</td>\n",
       "    </tr>\n",
       "    <tr>\n",
       "      <th>4</th>\n",
       "      <td>item_name</td>\n",
       "      <td>[&lt;class 'str'&gt;]</td>\n",
       "      <td>100.0</td>\n",
       "      <td>0.0</td>\n",
       "      <td>0</td>\n",
       "    </tr>\n",
       "  </tbody>\n",
       "</table>\n",
       "</div>"
      ],
      "text/plain": [
       "      nombre_campo         tipo_datos  no_nulos_%  nulos_%  nulos\n",
       "0          user_id    [<class 'str'>]       100.0      0.0      0\n",
       "1  reviews_item_id    [<class 'int'>]       100.0      0.0      0\n",
       "2           rating    [<class 'int'>]       100.0      0.0      0\n",
       "3          item_id  [<class 'float'>]       100.0      0.0      0\n",
       "4        item_name    [<class 'str'>]       100.0      0.0      0"
      ]
     },
     "execution_count": 69,
     "metadata": {},
     "output_type": "execute_result"
    }
   ],
   "source": [
    "# Se borran los nulos\n",
    "df = df.dropna(subset=['item_id'])\n",
    "# Se cuentan los registros que quedan\n",
    "print(f'Quedan {df.shape[0]} registros')\n",
    "# Se verifican los tipo de dato y nulos\n",
    "verificar_tipo_datos(df)"
   ]
  },
  {
   "cell_type": "markdown",
   "metadata": {},
   "source": [
    "Se convierte en entero la columna 'item_id' y se crea un último dataframe con las columnas necesarias para los modelos de recomendación."
   ]
  },
  {
   "cell_type": "code",
   "execution_count": 70,
   "metadata": {},
   "outputs": [
    {
     "data": {
      "text/html": [
       "<div>\n",
       "<style scoped>\n",
       "    .dataframe tbody tr th:only-of-type {\n",
       "        vertical-align: middle;\n",
       "    }\n",
       "\n",
       "    .dataframe tbody tr th {\n",
       "        vertical-align: top;\n",
       "    }\n",
       "\n",
       "    .dataframe thead th {\n",
       "        text-align: right;\n",
       "    }\n",
       "</style>\n",
       "<table border=\"1\" class=\"dataframe\">\n",
       "  <thead>\n",
       "    <tr style=\"text-align: right;\">\n",
       "      <th></th>\n",
       "      <th>user_id</th>\n",
       "      <th>item_name</th>\n",
       "      <th>rating</th>\n",
       "    </tr>\n",
       "  </thead>\n",
       "  <tbody>\n",
       "    <tr>\n",
       "      <th>0</th>\n",
       "      <td>76561197970982479</td>\n",
       "      <td>Killing Floor</td>\n",
       "      <td>3</td>\n",
       "    </tr>\n",
       "    <tr>\n",
       "      <th>1</th>\n",
       "      <td>js41637</td>\n",
       "      <td>Barbie™ Dreamhouse Party™</td>\n",
       "      <td>3</td>\n",
       "    </tr>\n",
       "    <tr>\n",
       "      <th>2</th>\n",
       "      <td>evcentric</td>\n",
       "      <td>Risk of Rain</td>\n",
       "      <td>5</td>\n",
       "    </tr>\n",
       "  </tbody>\n",
       "</table>\n",
       "</div>"
      ],
      "text/plain": [
       "             user_id                  item_name  rating\n",
       "0  76561197970982479              Killing Floor       3\n",
       "1            js41637  Barbie™ Dreamhouse Party™       3\n",
       "2          evcentric               Risk of Rain       5"
      ]
     },
     "execution_count": 70,
     "metadata": {},
     "output_type": "execute_result"
    }
   ],
   "source": [
    "df = df[['user_id', 'item_name', 'rating']]\n",
    "df.head(3)"
   ]
  },
  {
   "cell_type": "markdown",
   "metadata": {},
   "source": [
    "En el siguiente gráfico se pueden ver la cantidad de reviews distribuidos por el puntaje adoptado."
   ]
  },
  {
   "cell_type": "code",
   "execution_count": 71,
   "metadata": {},
   "outputs": [
    {
     "data": {
      "image/png": "[encoded data removed]",
      "text/plain": [
       "<Figure size 1200x400 with 2 Axes>"
      ]
     },
     "metadata": {},
     "output_type": "display_data"
    }
   ],
   "source": [
    "# Agrupa las calificaciones por rating\n",
    "ratings_count = df['rating'].value_counts().reset_index()\n",
    "ratings_count.columns = ['rating', 'count']\n",
    "# Agrupa los juegos únicos por rating\n",
    "unique_games_per_rating = df.groupby('rating')['item_name'].nunique().reset_index()\n",
    "\n",
    "# Crea una figura con dos subplots\n",
    "fig, axes = plt.subplots(1, 2, figsize=(12, 4))\n",
    "\n",
    "# Primer subplot\n",
    "sns.barplot(data=ratings_count, x='rating', y='count', ax=axes[0])\n",
    "axes[0].set_title('Cantidad de reviews según los ratings') ; axes[0].set_xlabel('Rating') ; axes[0].set_ylabel('Cantidad revies')\n",
    "\n",
    "# Segundo subplot\n",
    "sns.barplot(data=unique_games_per_rating, x='rating', y='item_name', ax=axes[1])\n",
    "axes[1].set_title('Cantidad de Juegos por rating') ; axes[1].set_xlabel('Rating') ; axes[1].set_ylabel('Cantidad de juegos')\n",
    "\n",
    "# Ajusta y muestra los graficos\n",
    "plt.tight_layout()\n",
    "plt.show()"
   ]
  },
  {
   "cell_type": "code",
   "execution_count": 72,
   "metadata": {},
   "outputs": [
    {
     "data": {
      "text/html": [
       "<div>\n",
       "<style scoped>\n",
       "    .dataframe tbody tr th:only-of-type {\n",
       "        vertical-align: middle;\n",
       "    }\n",
       "\n",
       "    .dataframe tbody tr th {\n",
       "        vertical-align: top;\n",
       "    }\n",
       "\n",
       "    .dataframe thead th {\n",
       "        text-align: right;\n",
       "    }\n",
       "</style>\n",
       "<table border=\"1\" class=\"dataframe\">\n",
       "  <thead>\n",
       "    <tr style=\"text-align: right;\">\n",
       "      <th></th>\n",
       "      <th>Cantidad</th>\n",
       "      <th>Porcentaje</th>\n",
       "    </tr>\n",
       "    <tr>\n",
       "      <th>rating</th>\n",
       "      <th></th>\n",
       "      <th></th>\n",
       "    </tr>\n",
       "  </thead>\n",
       "  <tbody>\n",
       "    <tr>\n",
       "      <th>3</th>\n",
       "      <td>27561</td>\n",
       "      <td>54.00</td>\n",
       "    </tr>\n",
       "    <tr>\n",
       "      <th>5</th>\n",
       "      <td>14237</td>\n",
       "      <td>27.89</td>\n",
       "    </tr>\n",
       "    <tr>\n",
       "      <th>1</th>\n",
       "      <td>4585</td>\n",
       "      <td>8.98</td>\n",
       "    </tr>\n",
       "    <tr>\n",
       "      <th>2</th>\n",
       "      <td>4103</td>\n",
       "      <td>8.04</td>\n",
       "    </tr>\n",
       "    <tr>\n",
       "      <th>4</th>\n",
       "      <td>553</td>\n",
       "      <td>1.08</td>\n",
       "    </tr>\n",
       "  </tbody>\n",
       "</table>\n",
       "</div>"
      ],
      "text/plain": [
       "        Cantidad  Porcentaje\n",
       "rating                      \n",
       "3          27561       54.00\n",
       "5          14237       27.89\n",
       "1           4585        8.98\n",
       "2           4103        8.04\n",
       "4            553        1.08"
      ]
     },
     "execution_count": 72,
     "metadata": {},
     "output_type": "execute_result"
    }
   ],
   "source": [
    "# Cantidades de review por rating\n",
    "resumen_cant_porcentaje(df, 'rating')"
   ]
  },
  {
   "cell_type": "code",
   "execution_count": 73,
   "metadata": {},
   "outputs": [
    {
     "data": {
      "text/html": [
       "<div>\n",
       "<style scoped>\n",
       "    .dataframe tbody tr th:only-of-type {\n",
       "        vertical-align: middle;\n",
       "    }\n",
       "\n",
       "    .dataframe tbody tr th {\n",
       "        vertical-align: top;\n",
       "    }\n",
       "\n",
       "    .dataframe thead th {\n",
       "        text-align: right;\n",
       "    }\n",
       "</style>\n",
       "<table border=\"1\" class=\"dataframe\">\n",
       "  <thead>\n",
       "    <tr style=\"text-align: right;\">\n",
       "      <th></th>\n",
       "      <th>rating</th>\n",
       "      <th>item_name</th>\n",
       "    </tr>\n",
       "  </thead>\n",
       "  <tbody>\n",
       "    <tr>\n",
       "      <th>0</th>\n",
       "      <td>1</td>\n",
       "      <td>1114</td>\n",
       "    </tr>\n",
       "    <tr>\n",
       "      <th>1</th>\n",
       "      <td>2</td>\n",
       "      <td>1168</td>\n",
       "    </tr>\n",
       "    <tr>\n",
       "      <th>2</th>\n",
       "      <td>3</td>\n",
       "      <td>2451</td>\n",
       "    </tr>\n",
       "    <tr>\n",
       "      <th>3</th>\n",
       "      <td>4</td>\n",
       "      <td>292</td>\n",
       "    </tr>\n",
       "    <tr>\n",
       "      <th>4</th>\n",
       "      <td>5</td>\n",
       "      <td>1788</td>\n",
       "    </tr>\n",
       "  </tbody>\n",
       "</table>\n",
       "</div>"
      ],
      "text/plain": [
       "   rating  item_name\n",
       "0       1       1114\n",
       "1       2       1168\n",
       "2       3       2451\n",
       "3       4        292\n",
       "4       5       1788"
      ]
     },
     "execution_count": 73,
     "metadata": {},
     "output_type": "execute_result"
    }
   ],
   "source": [
    "# Cantidades de juegos por rating\n",
    "unique_games_per_rating"
   ]
  },
  {
   "cell_type": "markdown",
   "metadata": {},
   "source": [
    "Se puede ver en la gráfica de la derecha que la mayoría de las reviews tienen un 'rating' de 3, correspondiente a sentimientos neutrales pero que recomiendan el juego, siendo 27581 reviews (el 54% de los comentarios) en esta categoría. Le siguen 14237 reviews con sentimientos positivos y que recomiendan los juegos comentados. Finalmente, se observan menos de 6000 comentarios con sentimiento negativo. Por otro lado, en la gráfica de la izquierda se pueden observa cerca de 1800 juegos recomendados.\n",
    "\n",
    "Finalmente, se guarda el dataframe a utilizar en el modelo de recomnedación."
   ]
  },
  {
   "cell_type": "code",
   "execution_count": 74,
   "metadata": {},
   "outputs": [
    {
     "name": "stdout",
     "output_type": "stream",
     "text": [
      "Se guardado como 'data/df_recomendacion.csv'\n"
     ]
    }
   ],
   "source": [
    "df.to_csv('data/df_recomendacion.csv', index=False, encoding='utf-8')\n",
    "print(f\"Se guardado como 'data/df_recomendacion.csv'\")"
   ]
  }
 ],
 "metadata": {
  "kernelspec": {
   "display_name": "mlenv",
   "language": "python",
   "name": "python3"
  },
  "language_info": {
   "codemirror_mode": {
    "name": "ipython",
    "version": 3
   },
   "file_extension": ".py",
   "mimetype": "text/x-python",
   "name": "python",
   "nbconvert_exporter": "python",
   "pygments_lexer": "ipython3",
   "version": "3.11.7"
  },
  "orig_nbformat": 4
 },
 "nbformat": 4,
 "nbformat_minor": 2
}
