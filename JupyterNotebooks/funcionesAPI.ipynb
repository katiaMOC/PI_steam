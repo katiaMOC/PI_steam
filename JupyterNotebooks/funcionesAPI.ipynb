{
 "cells": [
  {
   "cell_type": "markdown",
   "metadata": {},
   "source": [
    "# Pondremos a prueba las funciones requeridas para la API"
   ]
  },
  {
   "cell_type": "markdown",
   "metadata": {},
   "source": [
    "## Importaciones"
   ]
  },
  {
   "cell_type": "code",
   "execution_count": 1,
   "metadata": {},
   "outputs": [],
   "source": [
    "import pandas as pd\n",
    "\n",
    "%load_ext autoreload\n",
    "%autoreload 2\n",
    "import utils\n",
    "\n",
    "import warnings\n",
    "warnings.filterwarnings(\"ignore\")"
   ]
  },
  {
   "cell_type": "markdown",
   "metadata": {},
   "source": [
    "## Carga de los dataset necesarios"
   ]
  },
  {
   "cell_type": "markdown",
   "metadata": {},
   "source": [
    "Se cargan los conjuntos de datos necesarios para llevar a cabo las consultas solicitadas. Se decide subir los datos de esta manera, y no los dataset completos, debido a la limitada capacidad de almacenamiento que permite Render. Por otra parte, considerando que el objetivo es entregar un PVM, a modo de prueba de concepto, se consideró adecuada esta simplificación de los datasets.\n",
    "\n",
    "Los  dataset que se utilizan son:\n",
    "\n",
    "* **df_reviews_unido**: contiene la información relacionada a los usuarios que realizan reviews de los juegos en formato de análisis de sentimientos. Entre esta información, se encuentran las recomendaciones o no del juego por parte de usuario, la fecha del review así como datos del usuario como su id, su url del perfil.\n",
    "* **df_gastos_items**: contiene la cantidad de items que consume cada usuario y el precio de cada uno de los productos que consume.\n",
    "* **df_playtime_forever**: contiene para cada usuario su identificación, la url de su perfil, la cantidad de horas jugadas por cada género de juego.\n",
    "* **genre_ranking**: contiene el ranking de los géneros de juegos con mas horas jugadas.\n",
    "* **df_items_developer**: contiene la información relacionada con cada item de juegos como su id, precio, desarrollador y año de lanzamiento."
   ]
  },
  {
   "cell_type": "code",
   "execution_count": 103,
   "metadata": {},
   "outputs": [],
   "source": [
    "df_reviews_as = pd.read_csv('data/df_reviews_as_unido.csv')\n",
    "df_gastos_items = pd.read_csv('data/df_gastos_items_unido.csv')\n",
    "df_playtime_forever = pd.read_csv('data/df_playtime_forever_unido.csv')\n",
    "df_items_developer = pd.read_csv('data/df_items_developer_unido.csv')"
   ]
  },
  {
   "cell_type": "markdown",
   "metadata": {},
   "source": [
    "A continuación, se desarrollan cada una de las funciones solicitadas."
   ]
  },
  {
   "cell_type": "markdown",
   "metadata": {},
   "source": [
    "## developer"
   ]
  },
  {
   "cell_type": "markdown",
   "metadata": {},
   "source": [
    "Esta función recibe como parámetro 'developer', que es la empresa desarrolladora del juego, y devuelve la cantidad de items que desarrolla dicha empresa y el porcentaje de contenido Free por año por sobre el total que desarrolla"
   ]
  },
  {
   "cell_type": "code",
   "execution_count": 12,
   "metadata": {},
   "outputs": [],
   "source": [
    "def developer(desarrollador):\n",
    "    # Filtra el dataframe por desarrollador de interés\n",
    "    data_filtrada = df_items_developer[df_items_developer['developer'] == desarrollador]\n",
    "    # Calcula la cantidad de items por año\n",
    "    cantidad_por_año = data_filtrada.groupby('release_anio')['item_id'].count()\n",
    "    # Calcula la cantidad de elementos gratis por año\n",
    "    cantidad_gratis_por_año = data_filtrada[data_filtrada['price'] == 0.0].groupby('release_anio')['item_id'].count()\n",
    "    # Calcula el porcentaje de elementos gratis por año\n",
    "    porcentaje_gratis_por_año = (cantidad_gratis_por_año / cantidad_por_año * 100).fillna(0).astype(int)\n",
    "\n",
    "    result_dict = {\n",
    "        'cantidad_por_año': cantidad_por_año.to_dict(),\n",
    "        'porcentaje_gratis_por_año': porcentaje_gratis_por_año.to_dict()\n",
    "    }\n",
    "    \n",
    "    return result_dict"
   ]
  },
  {
   "cell_type": "code",
   "execution_count": 13,
   "metadata": {},
   "outputs": [
    {
     "data": {
      "text/plain": [
       "{'cantidad_por_año': {'2016': 2, '2017': 1},\n",
       " 'porcentaje_gratis_por_año': {'2016': 50, '2017': 0}}"
      ]
     },
     "execution_count": 13,
     "metadata": {},
     "output_type": "execute_result"
    }
   ],
   "source": [
    "desarrollador = 'Mechanical Boss'\n",
    "developer(desarrollador)"
   ]
  },
  {
   "cell_type": "markdown",
   "metadata": {},
   "source": [
    "## userdata"
   ]
  },
  {
   "cell_type": "markdown",
   "metadata": {},
   "source": [
    "Esta función tiene por parámentro 'user_id' y devulve la cantidad de dinero gastado por el usuario, el porcentaje de recomendaciones que realizó sobre la cantidad de reviews que se analizan y la cantidad de items que consume el mismo."
   ]
  },
  {
   "cell_type": "code",
   "execution_count": 14,
   "metadata": {},
   "outputs": [],
   "source": [
    "def userdata(user_id):\n",
    "    \n",
    "    # Filtra por el usuario de interés\n",
    "    usuario = df_reviews_as[df_reviews_as['user_id'] == user_id]\n",
    "    # Calcula la cantidad de dinero gastado para el usuario de interés\n",
    "    cantidad_dinero = df_gastos_items[df_gastos_items['user_id']== user_id]['price'].iloc[0]\n",
    "    # Busca el count_item para el usuario de interés    \n",
    "    count_items = df_gastos_items[df_gastos_items['user_id']== user_id]['items_count'].iloc[0]\n",
    "    \n",
    "    # Calcula el total de recomendaciones realizadas por el usuario de interés\n",
    "    total_recomendaciones = usuario['reviews_recommend'].sum()\n",
    "    # Calcula el total de reviews realizada por todos los usuarios\n",
    "    total_reviews = len(df_reviews_as['user_id'].unique())\n",
    "    # Calcula el porcentaje de recomendaciones realizadas por el usuario de interés\n",
    "    porcentaje_recomendaciones = (total_recomendaciones / total_reviews) * 100\n",
    "    \n",
    "    return {\n",
    "        'cantidad_dinero': cantidad_dinero,\n",
    "        'porcentaje_recomendacion': round(porcentaje_recomendaciones, 2),\n",
    "        'total_items': count_items.astype(int)\n",
    "    }"
   ]
  },
  {
   "cell_type": "code",
   "execution_count": 15,
   "metadata": {},
   "outputs": [
    {
     "data": {
      "text/plain": [
       "{'cantidad_dinero': 189.84,\n",
       " 'porcentaje_recomendacion': 0.03,\n",
       " 'total_items': 23}"
      ]
     },
     "execution_count": 15,
     "metadata": {},
     "output_type": "execute_result"
    }
   ],
   "source": [
    "user_id = 'EchoXSilence'\n",
    "userdata(user_id)"
   ]
  },
  {
   "cell_type": "markdown",
   "metadata": {},
   "source": [
    "## userforgenre"
   ]
  },
  {
   "cell_type": "markdown",
   "metadata": {},
   "source": [
    "Esta función recibe como parámetro el género de un videojuego y devuelve el top 5 de los usuarios con más horas de juego en el género ingresado, indicando el id del usuario y el url de su perfil."
   ]
  },
  {
   "cell_type": "code",
   "execution_count": 16,
   "metadata": {},
   "outputs": [],
   "source": [
    "def userforgenre(genero):\n",
    "    # Filtra el dataframe por el género de interés\n",
    "    data_por_genero = df_playtime_forever[df_playtime_forever['genres'] == genero]\n",
    "    # Agrupa el dataframe filtrado por usuario y suma la cantidad de horas\n",
    "    top_users = data_por_genero.groupby(['user_url', 'user_id'])['playtime_horas'].sum().nlargest(5).reset_index()\n",
    "    \n",
    "    # Se hace un diccionario vacío para guardar los datos que se necesitan\n",
    "    top_users_dict = {}\n",
    "    for index, row in top_users.iterrows():\n",
    "        # User info recorre cada fila del top 5 y lo guarda en el diccionario\n",
    "        user_info = {\n",
    "            'user_id': row['user_id'],\n",
    "            'user_url': row['user_url']\n",
    "        }\n",
    "        top_users_dict[index + 1] = user_info\n",
    "    \n",
    "    return top_users_dict"
   ]
  },
  {
   "cell_type": "code",
   "execution_count": 17,
   "metadata": {},
   "outputs": [
    {
     "data": {
      "text/plain": [
       "{1: {'user_id': 'Sp3ctre', 'user_url': 'http://steamcommunity.com/id/Sp3ctre'},\n",
       " 2: {'user_id': 'shinomegami',\n",
       "  'user_url': 'http://steamcommunity.com/id/shinomegami'},\n",
       " 3: {'user_id': 'REBAS_AS_F-T',\n",
       "  'user_url': 'http://steamcommunity.com/id/REBAS_AS_F-T'},\n",
       " 4: {'user_id': 'Terminally-Chill',\n",
       "  'user_url': 'http://steamcommunity.com/id/Terminally-Chill'},\n",
       " 5: {'user_id': 'DownSyndromeKid',\n",
       "  'user_url': 'http://steamcommunity.com/id/DownSyndromeKid'}}"
      ]
     },
     "execution_count": 17,
     "metadata": {},
     "output_type": "execute_result"
    }
   ],
   "source": [
    "genero = 'Action'\n",
    "userforgenre(genero)"
   ]
  },
  {
   "cell_type": "markdown",
   "metadata": {},
   "source": [
    "## best_developer_year"
   ]
  },
  {
   "cell_type": "markdown",
   "metadata": {},
   "source": [
    " Devuelve el top 3 de desarrolladores con juegos MÁS recomendados por usuarios para el año dado. (reviews.recommend = True y comentarios positivos)\n",
    "Ejemplo de retorno: [{\"Puesto 1\" : X}, {\"Puesto 2\" : Y},{\"Puesto 3\" : Z}]"
   ]
  },
  {
   "cell_type": "code",
   "execution_count": 70,
   "metadata": {},
   "outputs": [
    {
     "data": {
      "text/html": [
       "<div>\n",
       "<style scoped>\n",
       "    .dataframe tbody tr th:only-of-type {\n",
       "        vertical-align: middle;\n",
       "    }\n",
       "\n",
       "    .dataframe tbody tr th {\n",
       "        vertical-align: top;\n",
       "    }\n",
       "\n",
       "    .dataframe thead th {\n",
       "        text-align: right;\n",
       "    }\n",
       "</style>\n",
       "<table border=\"1\" class=\"dataframe\">\n",
       "  <thead>\n",
       "    <tr style=\"text-align: right;\">\n",
       "      <th></th>\n",
       "      <th>user_id</th>\n",
       "      <th>user_url</th>\n",
       "      <th>reviews_item_id</th>\n",
       "      <th>reviews_helpful</th>\n",
       "      <th>reviews_recommend</th>\n",
       "      <th>reviews_date</th>\n",
       "      <th>sentiment_analysis</th>\n",
       "      <th>developer</th>\n",
       "      <th>release_anio</th>\n",
       "    </tr>\n",
       "  </thead>\n",
       "  <tbody>\n",
       "    <tr>\n",
       "      <th>0</th>\n",
       "      <td>76561197970982479</td>\n",
       "      <td>http://steamcommunity.com/profiles/76561197970...</td>\n",
       "      <td>1250</td>\n",
       "      <td>No ratings yet</td>\n",
       "      <td>True</td>\n",
       "      <td>2011-11-05</td>\n",
       "      <td>1</td>\n",
       "      <td>Tripwire Interactive</td>\n",
       "      <td>2009</td>\n",
       "    </tr>\n",
       "    <tr>\n",
       "      <th>1</th>\n",
       "      <td>EndAtHallow</td>\n",
       "      <td>http://steamcommunity.com/id/EndAtHallow</td>\n",
       "      <td>1250</td>\n",
       "      <td>No ratings yet</td>\n",
       "      <td>True</td>\n",
       "      <td>2015-01-15</td>\n",
       "      <td>1</td>\n",
       "      <td>Tripwire Interactive</td>\n",
       "      <td>2009</td>\n",
       "    </tr>\n",
       "    <tr>\n",
       "      <th>2</th>\n",
       "      <td>76561198077432581</td>\n",
       "      <td>http://steamcommunity.com/profiles/76561198077...</td>\n",
       "      <td>1250</td>\n",
       "      <td>No ratings yet</td>\n",
       "      <td>True</td>\n",
       "      <td>2014-12-12</td>\n",
       "      <td>1</td>\n",
       "      <td>Tripwire Interactive</td>\n",
       "      <td>2009</td>\n",
       "    </tr>\n",
       "    <tr>\n",
       "      <th>3</th>\n",
       "      <td>76561198057958244</td>\n",
       "      <td>http://steamcommunity.com/profiles/76561198057...</td>\n",
       "      <td>1250</td>\n",
       "      <td>0 of 1 people (0%) found this review helpful</td>\n",
       "      <td>True</td>\n",
       "      <td>2013-12-13</td>\n",
       "      <td>0</td>\n",
       "      <td>Tripwire Interactive</td>\n",
       "      <td>2009</td>\n",
       "    </tr>\n",
       "    <tr>\n",
       "      <th>4</th>\n",
       "      <td>46366536564574576346346546</td>\n",
       "      <td>http://steamcommunity.com/id/46366536564574576...</td>\n",
       "      <td>1250</td>\n",
       "      <td>2 of 3 people (67%) found this review helpful</td>\n",
       "      <td>True</td>\n",
       "      <td>2014-08-19</td>\n",
       "      <td>1</td>\n",
       "      <td>Tripwire Interactive</td>\n",
       "      <td>2009</td>\n",
       "    </tr>\n",
       "    <tr>\n",
       "      <th>...</th>\n",
       "      <td>...</td>\n",
       "      <td>...</td>\n",
       "      <td>...</td>\n",
       "      <td>...</td>\n",
       "      <td>...</td>\n",
       "      <td>...</td>\n",
       "      <td>...</td>\n",
       "      <td>...</td>\n",
       "      <td>...</td>\n",
       "    </tr>\n",
       "    <tr>\n",
       "      <th>48797</th>\n",
       "      <td>ButtBurger2</td>\n",
       "      <td>http://steamcommunity.com/id/ButtBurger2</td>\n",
       "      <td>73010</td>\n",
       "      <td>No ratings yet</td>\n",
       "      <td>True</td>\n",
       "      <td>2012-05-17</td>\n",
       "      <td>0</td>\n",
       "      <td>Colossal Order Ltd.</td>\n",
       "      <td>2011</td>\n",
       "    </tr>\n",
       "    <tr>\n",
       "      <th>48798</th>\n",
       "      <td>76561198064526566</td>\n",
       "      <td>http://steamcommunity.com/profiles/76561198064...</td>\n",
       "      <td>378930</td>\n",
       "      <td>3 of 17 people (18%) found this review helpful</td>\n",
       "      <td>False</td>\n",
       "      <td>Formato inválido</td>\n",
       "      <td>1</td>\n",
       "      <td>Skyjaz Games</td>\n",
       "      <td>2016</td>\n",
       "    </tr>\n",
       "    <tr>\n",
       "      <th>48799</th>\n",
       "      <td>haungaraho</td>\n",
       "      <td>http://steamcommunity.com/id/haungaraho</td>\n",
       "      <td>16600</td>\n",
       "      <td>No ratings yet</td>\n",
       "      <td>True</td>\n",
       "      <td>2012-10-22</td>\n",
       "      <td>2</td>\n",
       "      <td>Redlynx</td>\n",
       "      <td>2008</td>\n",
       "    </tr>\n",
       "    <tr>\n",
       "      <th>48800</th>\n",
       "      <td>UnseenPrecision</td>\n",
       "      <td>http://steamcommunity.com/id/UnseenPrecision</td>\n",
       "      <td>232950</td>\n",
       "      <td>No ratings yet</td>\n",
       "      <td>True</td>\n",
       "      <td>2014-01-19</td>\n",
       "      <td>1</td>\n",
       "      <td>Halycon Media GmbH &amp;amp; Co. KG</td>\n",
       "      <td>2013</td>\n",
       "    </tr>\n",
       "    <tr>\n",
       "      <th>48801</th>\n",
       "      <td>Sucodebanana</td>\n",
       "      <td>http://steamcommunity.com/id/Sucodebanana</td>\n",
       "      <td>205080</td>\n",
       "      <td>3 of 11 people (27%) found this review helpful</td>\n",
       "      <td>False</td>\n",
       "      <td>2013-12-31</td>\n",
       "      <td>1</td>\n",
       "      <td>Gaijin Games</td>\n",
       "      <td>2013</td>\n",
       "    </tr>\n",
       "  </tbody>\n",
       "</table>\n",
       "<p>48802 rows × 9 columns</p>\n",
       "</div>"
      ],
      "text/plain": [
       "                          user_id  \\\n",
       "0               76561197970982479   \n",
       "1                     EndAtHallow   \n",
       "2               76561198077432581   \n",
       "3               76561198057958244   \n",
       "4      46366536564574576346346546   \n",
       "...                           ...   \n",
       "48797                 ButtBurger2   \n",
       "48798           76561198064526566   \n",
       "48799                  haungaraho   \n",
       "48800             UnseenPrecision   \n",
       "48801                Sucodebanana   \n",
       "\n",
       "                                                user_url  reviews_item_id  \\\n",
       "0      http://steamcommunity.com/profiles/76561197970...             1250   \n",
       "1               http://steamcommunity.com/id/EndAtHallow             1250   \n",
       "2      http://steamcommunity.com/profiles/76561198077...             1250   \n",
       "3      http://steamcommunity.com/profiles/76561198057...             1250   \n",
       "4      http://steamcommunity.com/id/46366536564574576...             1250   \n",
       "...                                                  ...              ...   \n",
       "48797           http://steamcommunity.com/id/ButtBurger2            73010   \n",
       "48798  http://steamcommunity.com/profiles/76561198064...           378930   \n",
       "48799            http://steamcommunity.com/id/haungaraho            16600   \n",
       "48800       http://steamcommunity.com/id/UnseenPrecision           232950   \n",
       "48801          http://steamcommunity.com/id/Sucodebanana           205080   \n",
       "\n",
       "                                      reviews_helpful  reviews_recommend  \\\n",
       "0                                      No ratings yet               True   \n",
       "1                                      No ratings yet               True   \n",
       "2                                      No ratings yet               True   \n",
       "3        0 of 1 people (0%) found this review helpful               True   \n",
       "4       2 of 3 people (67%) found this review helpful               True   \n",
       "...                                               ...                ...   \n",
       "48797                                  No ratings yet               True   \n",
       "48798  3 of 17 people (18%) found this review helpful              False   \n",
       "48799                                  No ratings yet               True   \n",
       "48800                                  No ratings yet               True   \n",
       "48801  3 of 11 people (27%) found this review helpful              False   \n",
       "\n",
       "           reviews_date  sentiment_analysis                        developer  \\\n",
       "0            2011-11-05                   1             Tripwire Interactive   \n",
       "1            2015-01-15                   1             Tripwire Interactive   \n",
       "2            2014-12-12                   1             Tripwire Interactive   \n",
       "3            2013-12-13                   0             Tripwire Interactive   \n",
       "4            2014-08-19                   1             Tripwire Interactive   \n",
       "...                 ...                 ...                              ...   \n",
       "48797        2012-05-17                   0              Colossal Order Ltd.   \n",
       "48798  Formato inválido                   1                     Skyjaz Games   \n",
       "48799        2012-10-22                   2                          Redlynx   \n",
       "48800        2014-01-19                   1  Halycon Media GmbH &amp; Co. KG   \n",
       "48801        2013-12-31                   1                     Gaijin Games   \n",
       "\n",
       "      release_anio  \n",
       "0             2009  \n",
       "1             2009  \n",
       "2             2009  \n",
       "3             2009  \n",
       "4             2009  \n",
       "...            ...  \n",
       "48797         2011  \n",
       "48798         2016  \n",
       "48799         2008  \n",
       "48800         2013  \n",
       "48801         2013  \n",
       "\n",
       "[48802 rows x 9 columns]"
      ]
     },
     "execution_count": 70,
     "metadata": {},
     "output_type": "execute_result"
    }
   ],
   "source": [
    "df_reviews_as"
   ]
  },
  {
   "cell_type": "code",
   "execution_count": 75,
   "metadata": {},
   "outputs": [],
   "source": [
    "# Reemplazar los valores 'Dato no disponible' con cero\n",
    "df_reviews_as['release_anio'] = df_reviews_as['release_anio'].replace('Dato no disponible', 0)\n",
    "\n",
    "# Convertir la columna 'count' a tipo entero\n",
    "df_reviews_as['release_anio'] = df_reviews_as['release_anio'].astype(int)\n"
   ]
  },
  {
   "cell_type": "code",
   "execution_count": 76,
   "metadata": {},
   "outputs": [],
   "source": [
    "def best_developer_year(año: int):\n",
    "    # Filtrar las reseñas para el año dado y donde las recomendaciones sean verdaderas y los comentarios sean positivos\n",
    "    df_filtered = df_reviews_as[(df_reviews_as['release_anio'] == año) & (df_reviews_as['reviews_recommend'] == True) & (df_reviews_as['sentiment_analysis'] == 2)]\n",
    "    \n",
    "    # Contar el número de juegos recomendados para cada desarrollador\n",
    "    developer_counts = df_filtered['developer'].value_counts().reset_index(name='count')\n",
    "    \n",
    "    # Tomar los tres primeros desarrolladores\n",
    "    top_developers = developer_counts.head(3)\n",
    "    \n",
    "    # Crear la lista en el formato requerido\n",
    "    resultado = [{\"Puesto {}\".format(i+1): row['developer']} for i, row in top_developers.iterrows()]\n",
    "    \n",
    "    return resultado\n",
    "\n",
    "\n",
    "\n"
   ]
  },
  {
   "cell_type": "code",
   "execution_count": 77,
   "metadata": {},
   "outputs": [
    {
     "data": {
      "text/plain": [
       "[{'Puesto 1': 'Valve'},\n",
       " {'Puesto 2': 'Oddworld Inhabitants'},\n",
       " {'Puesto 3': 'Epic Games, Inc.'}]"
      ]
     },
     "execution_count": 77,
     "metadata": {},
     "output_type": "execute_result"
    }
   ],
   "source": [
    "año = 1998\n",
    "best_developer_year(año)"
   ]
  },
  {
   "cell_type": "markdown",
   "metadata": {},
   "source": [
    "## sentiment_analysis"
   ]
  },
  {
   "cell_type": "markdown",
   "metadata": {},
   "source": [
    "Esta función recibe como parámetro el año de lanzamiento de un juego y según ese año devuelve una lista con la cantidad de registros de reseñas de usuarios que se encuentren categorizados con un análisis de sentimiento, como Negativo, Neutral y Positivo."
   ]
  },
  {
   "cell_type": "code",
   "execution_count": 114,
   "metadata": {},
   "outputs": [],
   "source": [
    "def developer_reviews_analysis(desarrolladora: str):\n",
    "    # Filtrar las reseñas para el desarrollador dado\n",
    "    reviews_developer = df_reviews_as[df_reviews_as['developer'] == desarrolladora]\n",
    "    \n",
    "    # Contar los registros de reseñas categorizadas como positivas y negativas\n",
    "    positive_reviews_count = len(reviews_developer[reviews_developer['sentiment_analysis'] == 2])\n",
    "    neutral_reviews_count = len(reviews_developer[reviews_developer['sentiment_analysis'] == 1])\n",
    "    negative_reviews_count = len(reviews_developer[reviews_developer['sentiment_analysis'] == 0])\n",
    "    \n",
    "    # Crear el diccionario de análisis de reseñas del desarrollador\n",
    "    developer_reviews_dict = {desarrolladora: {'Positive': positive_reviews_count, 'Neutro': neutral_reviews_count, 'Negative': negative_reviews_count}}\n",
    "    \n",
    "    return developer_reviews_dict\n"
   ]
  },
  {
   "cell_type": "code",
   "execution_count": 115,
   "metadata": {},
   "outputs": [
    {
     "data": {
      "text/plain": [
       "{'Colossal Order Ltd.': {'Positive': 20, 'Neutro': 54, 'Negative': 10}}"
      ]
     },
     "execution_count": 115,
     "metadata": {},
     "output_type": "execute_result"
    }
   ],
   "source": [
    "desarrollador = 'Colossal Order Ltd.'\n",
    "developer_reviews_analysis(desarrollador)"
   ]
  }
 ],
 "metadata": {
  "kernelspec": {
   "display_name": "mlenv",
   "language": "python",
   "name": "python3"
  },
  "language_info": {
   "codemirror_mode": {
    "name": "ipython",
    "version": 3
   },
   "file_extension": ".py",
   "mimetype": "text/x-python",
   "name": "python",
   "nbconvert_exporter": "python",
   "pygments_lexer": "ipython3",
   "version": "3.11.7"
  },
  "orig_nbformat": 4
 },
 "nbformat": 4,
 "nbformat_minor": 2
}
